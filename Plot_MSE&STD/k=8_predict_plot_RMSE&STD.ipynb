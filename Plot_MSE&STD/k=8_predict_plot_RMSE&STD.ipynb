{
  "nbformat": 4,
  "nbformat_minor": 0,
  "metadata": {
    "colab": {
      "name": "k=8 - predict - plot MSE&STD.ipynb",
      "provenance": [],
      "collapsed_sections": []
    },
    "kernelspec": {
      "name": "python3",
      "display_name": "Python 3.7.7 64-bit ('ds': conda)"
    },
    "language_info": {
      "name": "python",
      "version": "3.7.7"
    },
    "accelerator": "GPU",
    "widgets": {
      "application/vnd.jupyter.widget-state+json": {
        "56ed0ce4533841c388c95551b3d04c32": {
          "model_module": "@jupyter-widgets/controls",
          "model_name": "HBoxModel",
          "model_module_version": "1.5.0",
          "state": {
            "_view_name": "HBoxView",
            "_dom_classes": [],
            "_model_name": "HBoxModel",
            "_view_module": "@jupyter-widgets/controls",
            "_model_module_version": "1.5.0",
            "_view_count": null,
            "_view_module_version": "1.5.0",
            "box_style": "",
            "layout": "IPY_MODEL_03a2f605e1e74010a80a4b6c772f59e3",
            "_model_module": "@jupyter-widgets/controls",
            "children": [
              "IPY_MODEL_e3ddbcf8d5844f79bdcbad741172796d",
              "IPY_MODEL_a6e66e1cce8d496cb8e720888e50f5f6",
              "IPY_MODEL_2729e0fa40b9493a84ec5f3b2a0b763a"
            ]
          }
        },
        "03a2f605e1e74010a80a4b6c772f59e3": {
          "model_module": "@jupyter-widgets/base",
          "model_name": "LayoutModel",
          "model_module_version": "1.2.0",
          "state": {
            "_view_name": "LayoutView",
            "grid_template_rows": null,
            "right": null,
            "justify_content": null,
            "_view_module": "@jupyter-widgets/base",
            "overflow": null,
            "_model_module_version": "1.2.0",
            "_view_count": null,
            "flex_flow": "row wrap",
            "width": "100%",
            "min_width": null,
            "border": null,
            "align_items": null,
            "bottom": null,
            "_model_module": "@jupyter-widgets/base",
            "top": null,
            "grid_column": null,
            "overflow_y": null,
            "overflow_x": null,
            "grid_auto_flow": null,
            "grid_area": null,
            "grid_template_columns": null,
            "flex": null,
            "_model_name": "LayoutModel",
            "justify_items": null,
            "grid_row": null,
            "max_height": null,
            "align_content": null,
            "visibility": null,
            "align_self": null,
            "height": null,
            "min_height": null,
            "padding": null,
            "grid_auto_rows": null,
            "grid_gap": null,
            "max_width": null,
            "order": null,
            "_view_module_version": "1.2.0",
            "grid_template_areas": null,
            "object_position": null,
            "object_fit": null,
            "grid_auto_columns": null,
            "margin": null,
            "display": "inline-flex",
            "left": null
          }
        },
        "e3ddbcf8d5844f79bdcbad741172796d": {
          "model_module": "@jupyter-widgets/controls",
          "model_name": "HTMLModel",
          "model_module_version": "1.5.0",
          "state": {
            "_view_name": "HTMLView",
            "style": "IPY_MODEL_bcb78efff8f34e9294b819fcf33cc5a1",
            "_dom_classes": [],
            "description": "",
            "_model_name": "HTMLModel",
            "placeholder": "​",
            "_view_module": "@jupyter-widgets/controls",
            "_model_module_version": "1.5.0",
            "value": "Predicting: 100%",
            "_view_count": null,
            "_view_module_version": "1.5.0",
            "description_tooltip": null,
            "_model_module": "@jupyter-widgets/controls",
            "layout": "IPY_MODEL_0f6809b2d04c40acbacaa9ab96a95627"
          }
        },
        "a6e66e1cce8d496cb8e720888e50f5f6": {
          "model_module": "@jupyter-widgets/controls",
          "model_name": "FloatProgressModel",
          "model_module_version": "1.5.0",
          "state": {
            "_view_name": "ProgressView",
            "style": "IPY_MODEL_48ae1f9a23cc4b2796905c1e3b8bd58f",
            "_dom_classes": [],
            "description": "",
            "_model_name": "FloatProgressModel",
            "bar_style": "success",
            "max": 1,
            "_view_module": "@jupyter-widgets/controls",
            "_model_module_version": "1.5.0",
            "value": 1,
            "_view_count": null,
            "_view_module_version": "1.5.0",
            "orientation": "horizontal",
            "min": 0,
            "description_tooltip": null,
            "_model_module": "@jupyter-widgets/controls",
            "layout": "IPY_MODEL_442e57da4cfb468b8e92645f5ea8dcce"
          }
        },
        "2729e0fa40b9493a84ec5f3b2a0b763a": {
          "model_module": "@jupyter-widgets/controls",
          "model_name": "HTMLModel",
          "model_module_version": "1.5.0",
          "state": {
            "_view_name": "HTMLView",
            "style": "IPY_MODEL_f120a11e747642a5b659c22dd98247f0",
            "_dom_classes": [],
            "description": "",
            "_model_name": "HTMLModel",
            "placeholder": "​",
            "_view_module": "@jupyter-widgets/controls",
            "_model_module_version": "1.5.0",
            "value": " 181/181 [01:58&lt;00:00,  1.53it/s]",
            "_view_count": null,
            "_view_module_version": "1.5.0",
            "description_tooltip": null,
            "_model_module": "@jupyter-widgets/controls",
            "layout": "IPY_MODEL_556152793a2a4d8e8f7470857180629c"
          }
        },
        "bcb78efff8f34e9294b819fcf33cc5a1": {
          "model_module": "@jupyter-widgets/controls",
          "model_name": "DescriptionStyleModel",
          "model_module_version": "1.5.0",
          "state": {
            "_view_name": "StyleView",
            "_model_name": "DescriptionStyleModel",
            "description_width": "",
            "_view_module": "@jupyter-widgets/base",
            "_model_module_version": "1.5.0",
            "_view_count": null,
            "_view_module_version": "1.2.0",
            "_model_module": "@jupyter-widgets/controls"
          }
        },
        "0f6809b2d04c40acbacaa9ab96a95627": {
          "model_module": "@jupyter-widgets/base",
          "model_name": "LayoutModel",
          "model_module_version": "1.2.0",
          "state": {
            "_view_name": "LayoutView",
            "grid_template_rows": null,
            "right": null,
            "justify_content": null,
            "_view_module": "@jupyter-widgets/base",
            "overflow": null,
            "_model_module_version": "1.2.0",
            "_view_count": null,
            "flex_flow": null,
            "width": null,
            "min_width": null,
            "border": null,
            "align_items": null,
            "bottom": null,
            "_model_module": "@jupyter-widgets/base",
            "top": null,
            "grid_column": null,
            "overflow_y": null,
            "overflow_x": null,
            "grid_auto_flow": null,
            "grid_area": null,
            "grid_template_columns": null,
            "flex": null,
            "_model_name": "LayoutModel",
            "justify_items": null,
            "grid_row": null,
            "max_height": null,
            "align_content": null,
            "visibility": null,
            "align_self": null,
            "height": null,
            "min_height": null,
            "padding": null,
            "grid_auto_rows": null,
            "grid_gap": null,
            "max_width": null,
            "order": null,
            "_view_module_version": "1.2.0",
            "grid_template_areas": null,
            "object_position": null,
            "object_fit": null,
            "grid_auto_columns": null,
            "margin": null,
            "display": null,
            "left": null
          }
        },
        "48ae1f9a23cc4b2796905c1e3b8bd58f": {
          "model_module": "@jupyter-widgets/controls",
          "model_name": "ProgressStyleModel",
          "model_module_version": "1.5.0",
          "state": {
            "_view_name": "StyleView",
            "_model_name": "ProgressStyleModel",
            "description_width": "",
            "_view_module": "@jupyter-widgets/base",
            "_model_module_version": "1.5.0",
            "_view_count": null,
            "_view_module_version": "1.2.0",
            "bar_color": null,
            "_model_module": "@jupyter-widgets/controls"
          }
        },
        "442e57da4cfb468b8e92645f5ea8dcce": {
          "model_module": "@jupyter-widgets/base",
          "model_name": "LayoutModel",
          "model_module_version": "1.2.0",
          "state": {
            "_view_name": "LayoutView",
            "grid_template_rows": null,
            "right": null,
            "justify_content": null,
            "_view_module": "@jupyter-widgets/base",
            "overflow": null,
            "_model_module_version": "1.2.0",
            "_view_count": null,
            "flex_flow": null,
            "width": null,
            "min_width": null,
            "border": null,
            "align_items": null,
            "bottom": null,
            "_model_module": "@jupyter-widgets/base",
            "top": null,
            "grid_column": null,
            "overflow_y": null,
            "overflow_x": null,
            "grid_auto_flow": null,
            "grid_area": null,
            "grid_template_columns": null,
            "flex": "2",
            "_model_name": "LayoutModel",
            "justify_items": null,
            "grid_row": null,
            "max_height": null,
            "align_content": null,
            "visibility": null,
            "align_self": null,
            "height": null,
            "min_height": null,
            "padding": null,
            "grid_auto_rows": null,
            "grid_gap": null,
            "max_width": null,
            "order": null,
            "_view_module_version": "1.2.0",
            "grid_template_areas": null,
            "object_position": null,
            "object_fit": null,
            "grid_auto_columns": null,
            "margin": null,
            "display": null,
            "left": null
          }
        },
        "f120a11e747642a5b659c22dd98247f0": {
          "model_module": "@jupyter-widgets/controls",
          "model_name": "DescriptionStyleModel",
          "model_module_version": "1.5.0",
          "state": {
            "_view_name": "StyleView",
            "_model_name": "DescriptionStyleModel",
            "description_width": "",
            "_view_module": "@jupyter-widgets/base",
            "_model_module_version": "1.5.0",
            "_view_count": null,
            "_view_module_version": "1.2.0",
            "_model_module": "@jupyter-widgets/controls"
          }
        },
        "556152793a2a4d8e8f7470857180629c": {
          "model_module": "@jupyter-widgets/base",
          "model_name": "LayoutModel",
          "model_module_version": "1.2.0",
          "state": {
            "_view_name": "LayoutView",
            "grid_template_rows": null,
            "right": null,
            "justify_content": null,
            "_view_module": "@jupyter-widgets/base",
            "overflow": null,
            "_model_module_version": "1.2.0",
            "_view_count": null,
            "flex_flow": null,
            "width": null,
            "min_width": null,
            "border": null,
            "align_items": null,
            "bottom": null,
            "_model_module": "@jupyter-widgets/base",
            "top": null,
            "grid_column": null,
            "overflow_y": null,
            "overflow_x": null,
            "grid_auto_flow": null,
            "grid_area": null,
            "grid_template_columns": null,
            "flex": null,
            "_model_name": "LayoutModel",
            "justify_items": null,
            "grid_row": null,
            "max_height": null,
            "align_content": null,
            "visibility": null,
            "align_self": null,
            "height": null,
            "min_height": null,
            "padding": null,
            "grid_auto_rows": null,
            "grid_gap": null,
            "max_width": null,
            "order": null,
            "_view_module_version": "1.2.0",
            "grid_template_areas": null,
            "object_position": null,
            "object_fit": null,
            "grid_auto_columns": null,
            "margin": null,
            "display": null,
            "left": null
          }
        },
        "35e512bc266e48efa914aa0cec459aed": {
          "model_module": "@jupyter-widgets/controls",
          "model_name": "HBoxModel",
          "model_module_version": "1.5.0",
          "state": {
            "_view_name": "HBoxView",
            "_dom_classes": [],
            "_model_name": "HBoxModel",
            "_view_module": "@jupyter-widgets/controls",
            "_model_module_version": "1.5.0",
            "_view_count": null,
            "_view_module_version": "1.5.0",
            "box_style": "",
            "layout": "IPY_MODEL_f456c6c4d8c447beb7285e08794e968c",
            "_model_module": "@jupyter-widgets/controls",
            "children": [
              "IPY_MODEL_f923cf7400004e2aa108fcdcb3169224",
              "IPY_MODEL_679263c9a4c14fb3b5dfe899a5569c50",
              "IPY_MODEL_795250b0576e4502b47cda8df19778e5"
            ]
          }
        },
        "f456c6c4d8c447beb7285e08794e968c": {
          "model_module": "@jupyter-widgets/base",
          "model_name": "LayoutModel",
          "model_module_version": "1.2.0",
          "state": {
            "_view_name": "LayoutView",
            "grid_template_rows": null,
            "right": null,
            "justify_content": null,
            "_view_module": "@jupyter-widgets/base",
            "overflow": null,
            "_model_module_version": "1.2.0",
            "_view_count": null,
            "flex_flow": "row wrap",
            "width": "100%",
            "min_width": null,
            "border": null,
            "align_items": null,
            "bottom": null,
            "_model_module": "@jupyter-widgets/base",
            "top": null,
            "grid_column": null,
            "overflow_y": null,
            "overflow_x": null,
            "grid_auto_flow": null,
            "grid_area": null,
            "grid_template_columns": null,
            "flex": null,
            "_model_name": "LayoutModel",
            "justify_items": null,
            "grid_row": null,
            "max_height": null,
            "align_content": null,
            "visibility": null,
            "align_self": null,
            "height": null,
            "min_height": null,
            "padding": null,
            "grid_auto_rows": null,
            "grid_gap": null,
            "max_width": null,
            "order": null,
            "_view_module_version": "1.2.0",
            "grid_template_areas": null,
            "object_position": null,
            "object_fit": null,
            "grid_auto_columns": null,
            "margin": null,
            "display": "inline-flex",
            "left": null
          }
        },
        "f923cf7400004e2aa108fcdcb3169224": {
          "model_module": "@jupyter-widgets/controls",
          "model_name": "HTMLModel",
          "model_module_version": "1.5.0",
          "state": {
            "_view_name": "HTMLView",
            "style": "IPY_MODEL_f14bcbd68f7846bf8db76ecbd4fb7ce9",
            "_dom_classes": [],
            "description": "",
            "_model_name": "HTMLModel",
            "placeholder": "​",
            "_view_module": "@jupyter-widgets/controls",
            "_model_module_version": "1.5.0",
            "value": "Predicting: 100%",
            "_view_count": null,
            "_view_module_version": "1.5.0",
            "description_tooltip": null,
            "_model_module": "@jupyter-widgets/controls",
            "layout": "IPY_MODEL_189b1112ee754c3a9ef7a23a1edca73f"
          }
        },
        "679263c9a4c14fb3b5dfe899a5569c50": {
          "model_module": "@jupyter-widgets/controls",
          "model_name": "FloatProgressModel",
          "model_module_version": "1.5.0",
          "state": {
            "_view_name": "ProgressView",
            "style": "IPY_MODEL_2442aa24cb5d4835a8411a553ba65c01",
            "_dom_classes": [],
            "description": "",
            "_model_name": "FloatProgressModel",
            "bar_style": "success",
            "max": 1,
            "_view_module": "@jupyter-widgets/controls",
            "_model_module_version": "1.5.0",
            "value": 1,
            "_view_count": null,
            "_view_module_version": "1.5.0",
            "orientation": "horizontal",
            "min": 0,
            "description_tooltip": null,
            "_model_module": "@jupyter-widgets/controls",
            "layout": "IPY_MODEL_3a292bd8d08a4d5ea2d1a28e93a2bce2"
          }
        },
        "795250b0576e4502b47cda8df19778e5": {
          "model_module": "@jupyter-widgets/controls",
          "model_name": "HTMLModel",
          "model_module_version": "1.5.0",
          "state": {
            "_view_name": "HTMLView",
            "style": "IPY_MODEL_23842e53d7b7412983944fc7d4d8643d",
            "_dom_classes": [],
            "description": "",
            "_model_name": "HTMLModel",
            "placeholder": "​",
            "_view_module": "@jupyter-widgets/controls",
            "_model_module_version": "1.5.0",
            "value": " 181/181 [01:58&lt;00:00,  1.53it/s]",
            "_view_count": null,
            "_view_module_version": "1.5.0",
            "description_tooltip": null,
            "_model_module": "@jupyter-widgets/controls",
            "layout": "IPY_MODEL_2de55a8e7df5428cbd755d3f9a5a7148"
          }
        },
        "f14bcbd68f7846bf8db76ecbd4fb7ce9": {
          "model_module": "@jupyter-widgets/controls",
          "model_name": "DescriptionStyleModel",
          "model_module_version": "1.5.0",
          "state": {
            "_view_name": "StyleView",
            "_model_name": "DescriptionStyleModel",
            "description_width": "",
            "_view_module": "@jupyter-widgets/base",
            "_model_module_version": "1.5.0",
            "_view_count": null,
            "_view_module_version": "1.2.0",
            "_model_module": "@jupyter-widgets/controls"
          }
        },
        "189b1112ee754c3a9ef7a23a1edca73f": {
          "model_module": "@jupyter-widgets/base",
          "model_name": "LayoutModel",
          "model_module_version": "1.2.0",
          "state": {
            "_view_name": "LayoutView",
            "grid_template_rows": null,
            "right": null,
            "justify_content": null,
            "_view_module": "@jupyter-widgets/base",
            "overflow": null,
            "_model_module_version": "1.2.0",
            "_view_count": null,
            "flex_flow": null,
            "width": null,
            "min_width": null,
            "border": null,
            "align_items": null,
            "bottom": null,
            "_model_module": "@jupyter-widgets/base",
            "top": null,
            "grid_column": null,
            "overflow_y": null,
            "overflow_x": null,
            "grid_auto_flow": null,
            "grid_area": null,
            "grid_template_columns": null,
            "flex": null,
            "_model_name": "LayoutModel",
            "justify_items": null,
            "grid_row": null,
            "max_height": null,
            "align_content": null,
            "visibility": null,
            "align_self": null,
            "height": null,
            "min_height": null,
            "padding": null,
            "grid_auto_rows": null,
            "grid_gap": null,
            "max_width": null,
            "order": null,
            "_view_module_version": "1.2.0",
            "grid_template_areas": null,
            "object_position": null,
            "object_fit": null,
            "grid_auto_columns": null,
            "margin": null,
            "display": null,
            "left": null
          }
        },
        "2442aa24cb5d4835a8411a553ba65c01": {
          "model_module": "@jupyter-widgets/controls",
          "model_name": "ProgressStyleModel",
          "model_module_version": "1.5.0",
          "state": {
            "_view_name": "StyleView",
            "_model_name": "ProgressStyleModel",
            "description_width": "",
            "_view_module": "@jupyter-widgets/base",
            "_model_module_version": "1.5.0",
            "_view_count": null,
            "_view_module_version": "1.2.0",
            "bar_color": null,
            "_model_module": "@jupyter-widgets/controls"
          }
        },
        "3a292bd8d08a4d5ea2d1a28e93a2bce2": {
          "model_module": "@jupyter-widgets/base",
          "model_name": "LayoutModel",
          "model_module_version": "1.2.0",
          "state": {
            "_view_name": "LayoutView",
            "grid_template_rows": null,
            "right": null,
            "justify_content": null,
            "_view_module": "@jupyter-widgets/base",
            "overflow": null,
            "_model_module_version": "1.2.0",
            "_view_count": null,
            "flex_flow": null,
            "width": null,
            "min_width": null,
            "border": null,
            "align_items": null,
            "bottom": null,
            "_model_module": "@jupyter-widgets/base",
            "top": null,
            "grid_column": null,
            "overflow_y": null,
            "overflow_x": null,
            "grid_auto_flow": null,
            "grid_area": null,
            "grid_template_columns": null,
            "flex": "2",
            "_model_name": "LayoutModel",
            "justify_items": null,
            "grid_row": null,
            "max_height": null,
            "align_content": null,
            "visibility": null,
            "align_self": null,
            "height": null,
            "min_height": null,
            "padding": null,
            "grid_auto_rows": null,
            "grid_gap": null,
            "max_width": null,
            "order": null,
            "_view_module_version": "1.2.0",
            "grid_template_areas": null,
            "object_position": null,
            "object_fit": null,
            "grid_auto_columns": null,
            "margin": null,
            "display": null,
            "left": null
          }
        },
        "23842e53d7b7412983944fc7d4d8643d": {
          "model_module": "@jupyter-widgets/controls",
          "model_name": "DescriptionStyleModel",
          "model_module_version": "1.5.0",
          "state": {
            "_view_name": "StyleView",
            "_model_name": "DescriptionStyleModel",
            "description_width": "",
            "_view_module": "@jupyter-widgets/base",
            "_model_module_version": "1.5.0",
            "_view_count": null,
            "_view_module_version": "1.2.0",
            "_model_module": "@jupyter-widgets/controls"
          }
        },
        "2de55a8e7df5428cbd755d3f9a5a7148": {
          "model_module": "@jupyter-widgets/base",
          "model_name": "LayoutModel",
          "model_module_version": "1.2.0",
          "state": {
            "_view_name": "LayoutView",
            "grid_template_rows": null,
            "right": null,
            "justify_content": null,
            "_view_module": "@jupyter-widgets/base",
            "overflow": null,
            "_model_module_version": "1.2.0",
            "_view_count": null,
            "flex_flow": null,
            "width": null,
            "min_width": null,
            "border": null,
            "align_items": null,
            "bottom": null,
            "_model_module": "@jupyter-widgets/base",
            "top": null,
            "grid_column": null,
            "overflow_y": null,
            "overflow_x": null,
            "grid_auto_flow": null,
            "grid_area": null,
            "grid_template_columns": null,
            "flex": null,
            "_model_name": "LayoutModel",
            "justify_items": null,
            "grid_row": null,
            "max_height": null,
            "align_content": null,
            "visibility": null,
            "align_self": null,
            "height": null,
            "min_height": null,
            "padding": null,
            "grid_auto_rows": null,
            "grid_gap": null,
            "max_width": null,
            "order": null,
            "_view_module_version": "1.2.0",
            "grid_template_areas": null,
            "object_position": null,
            "object_fit": null,
            "grid_auto_columns": null,
            "margin": null,
            "display": null,
            "left": null
          }
        }
      }
    },
    "interpreter": {
      "hash": "1f33512659712c6a6ac90d8f6217146f941852120cd4340b6d127417f394cbe5"
    }
  },
  "cells": [
    {
      "cell_type": "code",
      "metadata": {
        "colab": {
          "base_uri": "https://localhost:8080/"
        },
        "id": "jI4Ga-uz8-nj",
        "outputId": "d8794d04-322f-4ee8-be2a-7c0dadd0b7f5"
      },
      "source": [
        "import numpy as np\n",
        "\n",
        "import torch\n",
        "import torch.nn as nn\n",
        "import torch.nn.functional as F\n",
        "from torch.optim.lr_scheduler import ReduceLROnPlateau\n",
        "\n",
        "from torch.utils.data import Dataset\n",
        "from torch.utils.data import DataLoader\n",
        "import math\n",
        "import matplotlib.pyplot as plt\n",
        "\n",
        "device = torch.device(\"cuda:0\" if torch.cuda.is_available() else \"cpu\")\n",
        "print(device)"
      ],
      "execution_count": 1,
      "outputs": [
        {
          "output_type": "stream",
          "name": "stdout",
          "text": [
            "cuda:0\n"
          ]
        }
      ]
    },
    {
      "cell_type": "code",
      "metadata": {
        "id": "H44mHZmY9e8A"
      },
      "source": [
        "import pytorch_lightning as pl\n",
        "from pytorch_lightning.callbacks.early_stopping import EarlyStopping"
      ],
      "execution_count": null,
      "outputs": []
    },
    {
      "cell_type": "code",
      "metadata": {
        "id": "qUhX5iF79hg8"
      },
      "source": [
        "class Dataset_torch(Dataset):\n",
        "\n",
        "    def __init__(self, data):\n",
        "        self.data = data\n",
        "    def __len__(self):\n",
        "        return len(self.data['y'])    \n",
        "\n",
        "    def __getitem__(self, idx):\n",
        "        \n",
        "        inputs = [self.data['x1'][idx],self.data['x2'][idx].float()]\n",
        "        return inputs, self.data['y'][idx]\n",
        "        "
      ],
      "execution_count": 3,
      "outputs": []
    },
    {
      "cell_type": "code",
      "metadata": {
        "id": "og6fzPy09lT9"
      },
      "source": [
        "data_18 = torch.load('/content/drive/MyDrive/sar_img/dataset/tensors_2018.pt')\n",
        "dataset_2018 = Dataset_torch(data_18)\n",
        "data_loader_2018 = torch.utils.data.DataLoader(dataset=dataset_2018, batch_size=1024,num_workers=2)"
      ],
      "execution_count": 4,
      "outputs": []
    },
    {
      "cell_type": "code",
      "metadata": {
        "id": "7iyWp-Rc92XN"
      },
      "source": [
        "index_all = []\n",
        "for i in range(22):\n",
        "    index_all.append(torch.nonzero((data_18['y'][:,0] > i*0.5) & (data_18['y'][:,0] < (i+1)*0.5)))"
      ],
      "execution_count": 51,
      "outputs": []
    },
    {
      "cell_type": "code",
      "metadata": {
        "id": "VfxhkIGFI6qU"
      },
      "source": [
        "data_18_y = data_18['y'].to(device)"
      ],
      "execution_count": 11,
      "outputs": []
    },
    {
      "cell_type": "markdown",
      "metadata": {
        "id": "qYz2x3MOMJc8"
      },
      "source": [
        "# Prediction of Avg6 - data augmentation - model"
      ]
    },
    {
      "cell_type": "code",
      "metadata": {
        "id": "_MsJ_d-MMMb4"
      },
      "source": [
        "class Net_spectral(pl.LightningModule):\n",
        "    def __init__(self):\n",
        "        super().__init__()\n",
        "        self.conv1 = nn.Conv2d(2, 64, 3)\n",
        "        self.conv2 = nn.Conv2d(64, 128, 3)\n",
        "        self.conv3 = nn.Conv2d(128, 256, 3)\n",
        "        # self.conv4 = nn.Conv2d(256, 512, 3)\n",
        "\n",
        "        self.maxpooling2d = nn.MaxPool2d(2, 2)\n",
        "        self.globalmaxpooling2d = nn.AdaptiveAvgPool2d(1)\n",
        "        self.dropout = nn.Dropout(p=0.5)\n",
        "\n",
        "        self.fc512_n1 = nn.Linear(256, 256)\n",
        "        self.fc512_n2 = nn.Linear(256, 256)\n",
        "\n",
        "    def forward(self, x):\n",
        "        x = self.maxpooling2d(F.relu(self.conv1(x)))\n",
        "        x = self.maxpooling2d(F.relu(self.conv2(x)))\n",
        "        x = self.maxpooling2d(F.relu(self.conv3(x)))\n",
        "        # x = self.maxpooling2d(F.relu(self.conv4(x)))\n",
        "        x= self.globalmaxpooling2d(x)\n",
        "        x = F.relu(self.fc512_n1(torch.squeeze(x)))\n",
        "\n",
        "        x = F.relu(self.fc512_n2(x))\n",
        "        x = self.dropout(x)\n",
        "        return x\n",
        "\n",
        "class MLP_output(pl.LightningModule):\n",
        "    def __init__(self):\n",
        "        super().__init__()\n",
        "\n",
        "        self.dropout_n1 = nn.Dropout(p=0.5)\n",
        "        self.dropout_n2 = nn.Dropout(p=0.5)\n",
        "        self.dropout_n3 = nn.Dropout(p=0.5)\n",
        "\n",
        "\n",
        "        self.fc256 = nn.Linear(256, 256)\n",
        "\n",
        "        # self.fc1024_512 = nn.Linear(1024, 512)\n",
        "        self.fc512_256 = nn.Linear(512, 256)\n",
        "        self.fc256_128 = nn.Linear(256, 128)\n",
        "        self.fc128_2 = nn.Linear(128,2)\n",
        "\n",
        "    def forward(self, x):\n",
        "\n",
        "\n",
        "        # x = F.relu(self.fc1024_512(x))\n",
        "        # x = self.dropout_n1(x)\n",
        "        # x = F.relu(self.fc512_256(x))\n",
        "        # x = self.dropout_n2(x)\n",
        "        x = F.relu(self.fc256_128(x))\n",
        "        x = self.dropout_n3(x)\n",
        "\n",
        "        output = F.softplus(self.fc128_2(x))\n",
        "\n",
        "        return output\n",
        "\n",
        "\n",
        "\n",
        "class Net_cwave(pl.LightningModule):\n",
        "    def __init__(self):\n",
        "        super().__init__()\n",
        "\n",
        "        self.dropout = nn.Dropout(p=0.5)\n",
        "        self.softmax = nn.Softmax(dim = 1)\n",
        "\n",
        "\n",
        "        self.fc10_64 = nn.Linear(10, 64)\n",
        "        self.fc64_128 = nn.Linear(64, 128)\n",
        "        self.fc128_256 = nn.Linear(128, 256)\n",
        "        self.fc256_512 = nn.Linear(256, 512)\n",
        "        self.fc512_1024 = nn.Linear(512, 1024)\n",
        "        self.fc1024_2048 = nn.Linear(1024,2048)\n",
        "\n",
        "    def forward(self, x):\n",
        "        x = F.relu(self.fc10_64(x[:,22:]))\n",
        "        x = F.relu(self.fc64_128(x))\n",
        "        x = F.relu(self.fc128_256(x))\n",
        "        x = F.relu(self.fc256_512(x))\n",
        "        x = F.relu(self.fc512_1024(x))\n",
        "        x = F.relu(self.fc1024_2048(x))\n",
        "        x = x.view(-1,8,256)\n",
        "\n",
        "        x = self.softmax(x)\n",
        "        x = self.dropout(x)\n",
        "        return x\n",
        "\n",
        "# combination of two NN\n",
        "class Net_comb(pl.LightningModule):\n",
        "    def __init__(self):\n",
        "        super().__init__()\n",
        "\n",
        "        self.maxpooling2d = nn.MaxPool2d(2, 2)\n",
        "        self.globalmaxpooling2d = nn.AdaptiveMaxPool2d(1)\n",
        "\n",
        "        self.dropout_n1 = nn.Dropout(p=0.5)\n",
        "        self.dropout_n2 = nn.Dropout(p=0.5)\n",
        "\n",
        "        self.fc256 = nn.Linear(256, 256)\n",
        "        self.fc256_128 = nn.Linear(256, 128)\n",
        "        self.fc128_1 = nn.Linear(128, 1)\n",
        "\n",
        "        self.net_cwave = Net_cwave()\n",
        "\n",
        "        self.net_spectral_n1 = Net_spectral()\n",
        "        self.net_spectral_n2 = Net_spectral()\n",
        "        self.net_spectral_n3 = Net_spectral()\n",
        "        self.net_spectral_n4 = Net_spectral()\n",
        "        self.net_spectral_n5 = Net_spectral()\n",
        "        self.net_spectral_n6 = Net_spectral()\n",
        "        self.net_spectral_n7 = Net_spectral()\n",
        "        self.net_spectral_n8 = Net_spectral()\n",
        "\n",
        "        self.mlp_out = MLP_output()\n",
        "        # self.mlp_out_2 = MLP_output()\n",
        "\n",
        "    def forward(self, x1,x2):\n",
        "\n",
        "        cnn_output_n1 = self.net_spectral_n1(x1)\n",
        "        cnn_output_n2 = self.net_spectral_n2(x1)\n",
        "        cnn_output_n3 = self.net_spectral_n3(x1)\n",
        "        cnn_output_n4 = self.net_spectral_n4(x1)\n",
        "        cnn_output_n5 = self.net_spectral_n5(x1)\n",
        "        cnn_output_n6 = self.net_spectral_n6(x1)\n",
        "        cnn_output_n7 = self.net_spectral_n7(x1)\n",
        "        cnn_output_n8 = self.net_spectral_n8(x1)\n",
        "\n",
        "        cnn_output_matrix = torch.cat([cnn_output_n1,cnn_output_n2,cnn_output_n3,cnn_output_n4,cnn_output_n5,cnn_output_n6,cnn_output_n7,cnn_output_n8],dim=1)\n",
        "        cnn_output_matrix = cnn_output_matrix.view(-1,8,256)\n",
        "        # print(self.net_cwave(x2).size())\n",
        "        # print(cnn_output_matrix.size())\n",
        "        x = cnn_output_matrix*self.net_cwave(x2)\n",
        "\n",
        "        x = torch.sum(x,1)\n",
        "\n",
        "        output = self.mlp_out(x)\n",
        "\n",
        "        return output\n",
        "\n",
        "\n",
        "    def training_step(self, batch, batch_idx):\n",
        "        x, y_true = batch\n",
        "        x1,x2 = x\n",
        "\n",
        "        x1 = torch.cat([x1, torch.cat([torch.unsqueeze(x1[:,0,:,:],1),torch.unsqueeze(torch.zeros_like(x1[:,1,:,:]),1)],1)],0)\n",
        "        x2 = torch.cat([x2,x2],0)\n",
        "\n",
        "        y_pre = self.forward(x1,x2)\n",
        "\n",
        "\n",
        "        loss_f = nn.GaussianNLLLoss()\n",
        "        loss = loss_f(y_pre[:,0], torch.cat([torch.squeeze(y_true).float(),torch.squeeze(y_true).float()],0) ,y_pre[:,1])\n",
        "        self.log('train_loss', loss)\n",
        "\n",
        "        return loss\n",
        "\n",
        "\n",
        "\n",
        "    def validation_step(self, batch, batch_idx):\n",
        "\n",
        "        x, y_true = batch\n",
        "        x1,x2 = x\n",
        "        \n",
        "        y_pre = self.forward(x1,x2)\n",
        "\n",
        "        loss = F.mse_loss(y_pre[:,0], torch.squeeze(y_true))\n",
        "        self.log('val_loss', loss)\n",
        "    \n",
        "        return loss\n",
        "\n",
        "    def test_step(self, batch, batch_idx):\n",
        "\n",
        "        x, y_true = batch\n",
        "        x1,x2 = x\n",
        "        \n",
        "        y_pre = self.forward(x1,x2)\n",
        "        loss = F.mse_loss(y_pre[:,0], torch.squeeze(y_true))\n",
        "        self.log('test_loss', loss)\n",
        "        \n",
        "        return loss\n",
        "\n",
        "    def configure_optimizers(self):\n",
        "\n",
        "        optimizer = torch.optim.Adam(self.parameters(), lr=0.0003)\n",
        "        scheduler = ReduceLROnPlateau(optimizer, factor=0.8, patience= 1)\n",
        "\n",
        "        return { 'optimizer': optimizer, 'lr_scheduler': { 'scheduler': scheduler, 'monitor': 'val_loss', } }"
      ],
      "execution_count": 38,
      "outputs": []
    },
    {
      "cell_type": "code",
      "metadata": {
        "id": "DMPqt7DBMTO4"
      },
      "source": [
        "\n",
        "\n",
        "class Net_comb_6(pl.LightningModule):\n",
        "    def __init__(self):\n",
        "        super().__init__()\n",
        "\n",
        "        self.m1 = Net_comb.load_from_checkpoint('/content/drive/MyDrive/sar_img/model/model_nllloss_k=8_256_batch_256_aug_fix_30epoch_p5_lr08_v1/lightning_logs/version_6/checkpoints/epoch=31-step=71199.ckpt')\n",
        "        self.m2 = Net_comb.load_from_checkpoint('/content/drive/MyDrive/sar_img/model/model_nllloss_k=8_256_batch_256_aug_fix_30epoch_p5_lr08_v1/lightning_logs/version_8/checkpoints/epoch=31-step=71199.ckpt')\n",
        "        self.m3 = Net_comb.load_from_checkpoint('/content/drive/MyDrive/sar_img/model/model_nllloss_k=8_256_batch_256_aug_fix_30epoch_p5_lr08_v2/lightning_logs/version_0/checkpoints/epoch=31-step=71199.ckpt')\n",
        "        self.m4 = Net_comb.load_from_checkpoint('/content/drive/MyDrive/sar_img/model/model_nllloss_k=8_256_batch_256_aug_fix_30epoch_p5_lr08_v2/lightning_logs/version_2/checkpoints/epoch=31-step=71199.ckpt')\n",
        "        self.m5 = Net_comb.load_from_checkpoint('/content/drive/MyDrive/sar_img/model/model_nllloss_k=8_256_batch_256_aug_fix_30epoch_p5_lr08_v2/lightning_logs/version_3/checkpoints/epoch=31-step=71199.ckpt')\n",
        "        self.m6 = Net_comb.load_from_checkpoint('/content/drive/MyDrive/sar_img/model/model_nllloss_k=8_256_batch_256_aug_fix_30epoch_p5_lr08_v2/lightning_logs/version_7/checkpoints/epoch=31-step=71199.ckpt')\n",
        "\n",
        "    def forward(self, x1,x2):\n",
        "\n",
        "        out = torch.cat([torch.unsqueeze(self.m1(x1,x2),2),torch.unsqueeze(self.m2(x1,x2),2),torch.unsqueeze(self.m3(x1,x2),2),torch.unsqueeze(self.m4(x1,x2),2),torch.unsqueeze(self.m5(x1,x2),2),torch.unsqueeze(self.m6(x1,x2),2)],2)\n",
        "        out = torch.mean(out,2)\n",
        "\n",
        "\n",
        "        return out\n",
        "\n",
        "    def training_step(self, batch, batch_idx):\n",
        "        x, y_true = batch\n",
        "        x1,x2 = x\n",
        "\n",
        "        x1 = torch.cat([x1, torch.cat([torch.unsqueeze(x1[:,0,:,:],1),torch.unsqueeze(torch.zeros_like(x1[:,1,:,:]),1)],1)],0)\n",
        "        x2 = torch.cat([x2,x2],0)\n",
        "\n",
        "        y_pre = self.forward(x1,x2)\n",
        "\n",
        "\n",
        "        loss_f = nn.GaussianNLLLoss()\n",
        "        loss = loss_f(y_pre[:,0], torch.cat([torch.squeeze(y_true).float(),torch.squeeze(y_true).float()],0) ,y_pre[:,1])\n",
        "        self.log('train_loss', loss)\n",
        "\n",
        "        return loss\n",
        "\n",
        "\n",
        "\n",
        "    def validation_step(self, batch, batch_idx):\n",
        "\n",
        "        x, y_true = batch\n",
        "        x1,x2 = x\n",
        "        \n",
        "        y_pre = self.forward(x1,x2)\n",
        "\n",
        "        loss = F.mse_loss(y_pre[:,0], torch.squeeze(y_true))\n",
        "        self.log('val_loss', loss)\n",
        "    \n",
        "        return loss\n",
        "\n",
        "    def test_step(self, batch, batch_idx):\n",
        "\n",
        "        x, y_true = batch\n",
        "        x1,x2 = x\n",
        "        \n",
        "        y_pre = self.forward(x1,x2)\n",
        "        loss = F.mse_loss(y_pre[:,0], torch.squeeze(y_true))\n",
        "        self.log('test_loss', loss)\n",
        "        \n",
        "        return loss\n",
        "\n",
        "    def predict_step(self, batch, batch_idx):\n",
        "        x, y_true = batch\n",
        "        x1,x2 = x\n",
        "\n",
        "        y_pre = self.forward(x1,x2)\n",
        "        return y_pre\n",
        "\n",
        "    def configure_optimizers(self):\n",
        "        \n",
        "        optimizer = torch.optim.Adam(self.parameters(), lr=0.0003)\n",
        "        scheduler = ReduceLROnPlateau(optimizer, factor=0.8, patience= 4)\n",
        "\n",
        "        return { 'optimizer': optimizer, 'lr_scheduler': { 'scheduler': scheduler, 'monitor': 'val_loss', } }\n",
        "    "
      ],
      "execution_count": 39,
      "outputs": []
    },
    {
      "cell_type": "code",
      "metadata": {
        "colab": {
          "base_uri": "https://localhost:8080/",
          "height": 121,
          "referenced_widgets": [
            "35e512bc266e48efa914aa0cec459aed",
            "f456c6c4d8c447beb7285e08794e968c",
            "f923cf7400004e2aa108fcdcb3169224",
            "679263c9a4c14fb3b5dfe899a5569c50",
            "795250b0576e4502b47cda8df19778e5",
            "f14bcbd68f7846bf8db76ecbd4fb7ce9",
            "189b1112ee754c3a9ef7a23a1edca73f",
            "2442aa24cb5d4835a8411a553ba65c01",
            "3a292bd8d08a4d5ea2d1a28e93a2bce2",
            "23842e53d7b7412983944fc7d4d8643d",
            "2de55a8e7df5428cbd755d3f9a5a7148"
          ]
        },
        "id": "e4qz7IbtMWj3",
        "outputId": "0a6e3787-d358-4779-b71e-35752c737f74"
      },
      "source": [
        "model_6 = Net_comb_6()\n",
        "trainer = pl.Trainer(gpus=1)\n",
        "predict_2018_test_k8_avg6_aug_fix = trainer.predict(model=model,dataloaders = data_loader_2018)"
      ],
      "execution_count": 40,
      "outputs": [
        {
          "output_type": "stream",
          "name": "stderr",
          "text": [
            "GPU available: True, used: True\n",
            "TPU available: False, using: 0 TPU cores\n",
            "IPU available: False, using: 0 IPUs\n",
            "LOCAL_RANK: 0 - CUDA_VISIBLE_DEVICES: [0]\n"
          ]
        },
        {
          "output_type": "display_data",
          "data": {
            "application/vnd.jupyter.widget-view+json": {
              "model_id": "35e512bc266e48efa914aa0cec459aed",
              "version_minor": 0,
              "version_major": 2
            },
            "text/plain": [
              "Predicting: 0it [00:00, ?it/s]"
            ]
          },
          "metadata": {}
        }
      ]
    },
    {
      "cell_type": "code",
      "metadata": {
        "id": "xW2DJGa7NXwv"
      },
      "source": [
        "predict_2018_test_k8_avg6_aug_fix = torch.cat(predict_2018_test_k8_avg6_aug_fix)"
      ],
      "execution_count": 43,
      "outputs": []
    },
    {
      "cell_type": "code",
      "metadata": {
        "id": "AbIRLGD8MvEp"
      },
      "source": [
        "torch.save(predict_2018_test_k8_avg6_aug_fix, '/content/drive/MyDrive/sar_img/dataset/predict_2018_test_k8_avg6_aug_fix.pt')"
      ],
      "execution_count": 44,
      "outputs": []
    },
    {
      "source": [
        "## Compute MSE"
      ],
      "cell_type": "markdown",
      "metadata": {}
    },
    {
      "cell_type": "code",
      "metadata": {
        "id": "uUlPzp7uM4wy"
      },
      "source": [
        "mse_all = []\n",
        "for i in range(22):\n",
        "    mse_all.append(F.mse_loss( predict_2018_test_k8_avg6_aug_fix[index_all[i]][:,0,0],data_18_y[index_all[i]][:,0,0]))"
      ],
      "execution_count": 58,
      "outputs": []
    },
    {
      "cell_type": "code",
      "execution_count": null,
      "metadata": {},
      "outputs": [],
      "source": [
        "def compute_std(y1,y2,mse):\n",
        "  up_term = torch.sum( torch.square( torch.abs(y1-y2) -mse ) )\n",
        "  # print(y2)\n",
        "  return torch.sqrt(up_term/(len(y1)-1))"
      ]
    },
    {
      "cell_type": "code",
      "execution_count": null,
      "metadata": {},
      "outputs": [],
      "source": [
        "std_best = []\n",
        "for i in range(22):\n",
        "  std_best.append(compute_std(predict_2018_original_karas[index_all[i]],data_18[index_all[i]],mse_all[i]))"
      ]
    },
    {
      "cell_type": "code",
      "metadata": {
        "id": "hsSL9QW4WKRi"
      },
      "source": [
        "std_best = [0.346293509668832, 0.2669369590439979, 0.1893558155728894, 0.1835228738051674, 0.20555901872608823, 0.2383246978739601, 0.26852720578324063, 0.2847142259062558, 0.3034396282285795, 0.3315791987107695, 0.34874240202527695, 0.36145532072824876, 0.4192678015180254, 0.44887291635551835, 0.4502445293083892, 0.5780729867662545, 0.6036670043685681, 0.6446478310600051, 0.7199428374314153, 0.8764436406653068, 0.9053146452036906, 0.7252625812082377]\n",
        "std_keras = [0.41180476, 0.22910242, 0.18434748, 0.16902889, 0.17857188, 0.21085177,  0.24339817, 0.269533, 0.29677658, 0.32883034, 0.35269653, 0.37402833, 0.430864, 0.49374193, 0.4860231, 0.61558132, 0.63948027, 0.66401288, 0.79175267, 0.77932534, 0.71254386,0.87591156]"
      ],
      "execution_count": 68,
      "outputs": []
    },
    {
      "cell_type": "code",
      "execution_count": null,
      "metadata": {},
      "outputs": [],
      "source": [
        "mse_all_keras = [0.76144022, 0.22804827, 0.08137827, 0.05065597, 0.0592405, 0.08194562, 0.11086507, 0.1402572, 0.17046906, 0.20742064, 0.24115346, 0.28746564, 0.37837055, 0.47789985, 0.5263376, 0.86976685, 0.89072914, 1.16020258, 1.53541453, 1.58775931, 1.75512802,2.25546595]"
      ]
    },
    {
      "cell_type": "code",
      "metadata": {
        "colab": {
          "base_uri": "https://localhost:8080/",
          "height": 313
        },
        "id": "REQaVpycWvGo",
        "outputId": "693b2f3e-87b3-467c-937c-5652706104bf"
      },
      "source": [
        "plt.errorbar(np.arange(1,23)*0.5, np.sqrt(mse_all),c='r'  , yerr=std_best\n",
        "plt.errorbar(np.arange(1,23)*0.5, np.sqrt(mse_all_keras),c='b'  , yerr=std_keras,label='Keras')\n",
        "plt.title('S-1/ALT')\n",
        "plt.ylabel('Hs RMSE ± STD')\n",
        "plt.xlabel('ALT Hs')\n",
        "plt.legend()"
      ],
      "execution_count": 72,
      "outputs": [
        {
          "output_type": "execute_result",
          "data": {
            "text/plain": [
              "<matplotlib.legend.Legend at 0x7f855900a110>"
            ]
          },
          "metadata": {},
          "execution_count": 72
        },
        {
          "output_type": "display_data",
          "data": {
            "image/png": "[encoded data removed]",
            "text/plain": [
              "<Figure size 432x288 with 1 Axes>"
            ]
          },
          "metadata": {
            "needs_background": "light"
          }
        }
      ]
    }
  ]
}