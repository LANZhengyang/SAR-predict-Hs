{
  "nbformat": 4,
  "nbformat_minor": 0,
  "metadata": {
    "colab": {
      "name": "Plot MSE&STD.ipynb",
      "provenance": [],
      "collapsed_sections": [],
      "machine_shape": "hm"
    },
    "kernelspec": {
      "name": "python3",
      "display_name": "Python 3"
    },
    "language_info": {
      "name": "python"
    },
    "accelerator": "TPU"
  },
  "cells": [
    {
      "cell_type": "code",
      "metadata": {
        "colab": {
          "base_uri": "https://localhost:8080/"
        },
        "id": "jI4Ga-uz8-nj",
        "outputId": "b4427388-ddfa-4138-85cf-e883478b4b81"
      },
      "source": [
        "import numpy as np\n",
        "\n",
        "import torch\n",
        "import torch.nn as nn\n",
        "import torch.nn.functional as F\n",
        "from torch.optim.lr_scheduler import ReduceLROnPlateau\n",
        "\n",
        "from torch.utils.data import Dataset\n",
        "from torch.utils.data import DataLoader\n",
        "import math\n",
        "import matplotlib.pyplot as plt\n",
        "\n",
        "device = torch.device(\"cuda:0\" if torch.cuda.is_available() else \"cpu\")\n",
        "print(device)"
      ],
      "execution_count": 168,
      "outputs": [
        {
          "output_type": "stream",
          "name": "stdout",
          "text": [
            "cpu\n"
          ]
        }
      ]
    },
    {
      "cell_type": "code",
      "metadata": {
        "id": "H44mHZmY9e8A"
      },
      "source": [
        "# !pip install pytorch-lightning\n",
        "import pytorch_lightning as pl\n",
        "from pytorch_lightning.callbacks.early_stopping import EarlyStopping"
      ],
      "execution_count": null,
      "outputs": []
    },
    {
      "cell_type": "markdown",
      "metadata": {
        "id": "o_UC3NeMNgnd"
      },
      "source": [
        "# Load data"
      ]
    },
    {
      "cell_type": "code",
      "metadata": {
        "id": "qUhX5iF79hg8"
      },
      "source": [
        "class Dataset_torch(Dataset):\n",
        "\n",
        "    def __init__(self, data):\n",
        "        self.data = data\n",
        "    def __len__(self):\n",
        "        return len(self.data['y'])    \n",
        "\n",
        "    def __getitem__(self, idx):\n",
        "        \n",
        "        inputs = [self.data['x1'][idx],self.data['x2'][idx].float()]\n",
        "        return inputs, self.data['y'][idx]\n",
        "        "
      ],
      "execution_count": 170,
      "outputs": []
    },
    {
      "cell_type": "code",
      "metadata": {
        "id": "og6fzPy09lT9"
      },
      "source": [
        "data_18 = torch.load('/content/drive/MyDrive/sar_img/dataset/tensors_2018.pt')\n",
        "dataset_2018 = Dataset_torch(data_18)\n",
        "data_loader_2018 = torch.utils.data.DataLoader(dataset=dataset_2018, batch_size=1024,num_workers=2)"
      ],
      "execution_count": 171,
      "outputs": []
    },
    {
      "cell_type": "markdown",
      "metadata": {
        "id": "XFNfXfJDNqel"
      },
      "source": [
        "## Get index wrt ALT Hs with step 0.5"
      ]
    },
    {
      "cell_type": "code",
      "metadata": {
        "id": "7iyWp-Rc92XN"
      },
      "source": [
        "index_all = []\n",
        "for i in range(22):\n",
        "    index_all.append(torch.nonzero((data_18['y'][:,0] > i*0.5) & (data_18['y'][:,0] < (i+1)*0.5)))"
      ],
      "execution_count": 172,
      "outputs": []
    },
    {
      "cell_type": "markdown",
      "metadata": {
        "id": "Pgiyt6znNlVU"
      },
      "source": [
        "# Get Hs from ALT"
      ]
    },
    {
      "cell_type": "code",
      "metadata": {
        "id": "VfxhkIGFI6qU"
      },
      "source": [
        "data_18_y = data_18['y'].to(device)[:,0]"
      ],
      "execution_count": 173,
      "outputs": []
    },
    {
      "cell_type": "code",
      "metadata": {
        "id": "jf86l7ubM_RI"
      },
      "source": [
        "del data_18 # free RAM"
      ],
      "execution_count": null,
      "outputs": []
    },
    {
      "cell_type": "markdown",
      "metadata": {
        "id": "qYz2x3MOMJc8"
      },
      "source": [
        "# Model proposed"
      ]
    },
    {
      "cell_type": "code",
      "metadata": {
        "id": "_MsJ_d-MMMb4"
      },
      "source": [
        "class Net_spectral(pl.LightningModule):\n",
        "    def __init__(self):\n",
        "        super().__init__()\n",
        "        self.conv1 = nn.Conv2d(2, 64, 3)\n",
        "        self.conv2 = nn.Conv2d(64, 128, 3)\n",
        "        self.conv3 = nn.Conv2d(128, 256, 3)\n",
        "        # self.conv4 = nn.Conv2d(256, 512, 3)\n",
        "\n",
        "        self.maxpooling2d = nn.MaxPool2d(2, 2)\n",
        "        self.globalmaxpooling2d = nn.AdaptiveAvgPool2d(1)\n",
        "        self.dropout = nn.Dropout(p=0.5)\n",
        "\n",
        "        self.fc512_n1 = nn.Linear(256, 256)\n",
        "        self.fc512_n2 = nn.Linear(256, 256)\n",
        "\n",
        "    def forward(self, x):\n",
        "        x = self.maxpooling2d(F.relu(self.conv1(x)))\n",
        "        x = self.maxpooling2d(F.relu(self.conv2(x)))\n",
        "        x = self.maxpooling2d(F.relu(self.conv3(x)))\n",
        "        # x = self.maxpooling2d(F.relu(self.conv4(x)))\n",
        "        x= self.globalmaxpooling2d(x)\n",
        "        x = F.relu(self.fc512_n1(torch.squeeze(x)))\n",
        "\n",
        "        x = F.relu(self.fc512_n2(x))\n",
        "        x = self.dropout(x)\n",
        "        return x\n",
        "\n",
        "class MLP_output(pl.LightningModule):\n",
        "    def __init__(self):\n",
        "        super().__init__()\n",
        "\n",
        "        self.dropout_n1 = nn.Dropout(p=0.5)\n",
        "        self.dropout_n2 = nn.Dropout(p=0.5)\n",
        "        self.dropout_n3 = nn.Dropout(p=0.5)\n",
        "\n",
        "\n",
        "        self.fc256 = nn.Linear(256, 256)\n",
        "\n",
        "        # self.fc1024_512 = nn.Linear(1024, 512)\n",
        "        self.fc512_256 = nn.Linear(512, 256)\n",
        "        self.fc256_128 = nn.Linear(256, 128)\n",
        "        self.fc128_2 = nn.Linear(128,2)\n",
        "\n",
        "    def forward(self, x):\n",
        "\n",
        "\n",
        "        # x = F.relu(self.fc1024_512(x))\n",
        "        # x = self.dropout_n1(x)\n",
        "        # x = F.relu(self.fc512_256(x))\n",
        "        # x = self.dropout_n2(x)\n",
        "        x = F.relu(self.fc256_128(x))\n",
        "        x = self.dropout_n3(x)\n",
        "\n",
        "        output = F.softplus(self.fc128_2(x))\n",
        "\n",
        "        return output\n",
        "\n",
        "\n",
        "\n",
        "class Net_cwave(pl.LightningModule):\n",
        "    def __init__(self):\n",
        "        super().__init__()\n",
        "\n",
        "        self.dropout = nn.Dropout(p=0.5)\n",
        "        self.softmax = nn.Softmax(dim = 1)\n",
        "\n",
        "\n",
        "        self.fc10_64 = nn.Linear(10, 64)\n",
        "        self.fc64_128 = nn.Linear(64, 128)\n",
        "        self.fc128_256 = nn.Linear(128, 256)\n",
        "        self.fc256_512 = nn.Linear(256, 512)\n",
        "        self.fc512_1024 = nn.Linear(512, 1024)\n",
        "        self.fc1024_2048 = nn.Linear(1024,2048)\n",
        "\n",
        "    def forward(self, x):\n",
        "        x = F.relu(self.fc10_64(x[:,22:]))\n",
        "        x = F.relu(self.fc64_128(x))\n",
        "        x = F.relu(self.fc128_256(x))\n",
        "        x = F.relu(self.fc256_512(x))\n",
        "        x = F.relu(self.fc512_1024(x))\n",
        "        x = F.relu(self.fc1024_2048(x))\n",
        "        x = x.view(-1,8,256)\n",
        "\n",
        "        x = self.softmax(x)\n",
        "        x = self.dropout(x)\n",
        "        return x\n",
        "\n",
        "# combination of two NN\n",
        "class Net_comb(pl.LightningModule):\n",
        "    def __init__(self):\n",
        "        super().__init__()\n",
        "\n",
        "        self.maxpooling2d = nn.MaxPool2d(2, 2)\n",
        "        self.globalmaxpooling2d = nn.AdaptiveMaxPool2d(1)\n",
        "\n",
        "        self.dropout_n1 = nn.Dropout(p=0.5)\n",
        "        self.dropout_n2 = nn.Dropout(p=0.5)\n",
        "\n",
        "        self.fc256 = nn.Linear(256, 256)\n",
        "        self.fc256_128 = nn.Linear(256, 128)\n",
        "        self.fc128_1 = nn.Linear(128, 1)\n",
        "\n",
        "        self.net_cwave = Net_cwave()\n",
        "\n",
        "        self.net_spectral_n1 = Net_spectral()\n",
        "        self.net_spectral_n2 = Net_spectral()\n",
        "        self.net_spectral_n3 = Net_spectral()\n",
        "        self.net_spectral_n4 = Net_spectral()\n",
        "        self.net_spectral_n5 = Net_spectral()\n",
        "        self.net_spectral_n6 = Net_spectral()\n",
        "        self.net_spectral_n7 = Net_spectral()\n",
        "        self.net_spectral_n8 = Net_spectral()\n",
        "\n",
        "        self.mlp_out = MLP_output()\n",
        "        # self.mlp_out_2 = MLP_output()\n",
        "\n",
        "    def forward(self, x1,x2):\n",
        "\n",
        "        cnn_output_n1 = self.net_spectral_n1(x1)\n",
        "        cnn_output_n2 = self.net_spectral_n2(x1)\n",
        "        cnn_output_n3 = self.net_spectral_n3(x1)\n",
        "        cnn_output_n4 = self.net_spectral_n4(x1)\n",
        "        cnn_output_n5 = self.net_spectral_n5(x1)\n",
        "        cnn_output_n6 = self.net_spectral_n6(x1)\n",
        "        cnn_output_n7 = self.net_spectral_n7(x1)\n",
        "        cnn_output_n8 = self.net_spectral_n8(x1)\n",
        "\n",
        "        cnn_output_matrix = torch.cat([cnn_output_n1,cnn_output_n2,cnn_output_n3,cnn_output_n4,cnn_output_n5,cnn_output_n6,cnn_output_n7,cnn_output_n8],dim=1)\n",
        "        cnn_output_matrix = cnn_output_matrix.view(-1,8,256)\n",
        "        # print(self.net_cwave(x2).size())\n",
        "        # print(cnn_output_matrix.size())\n",
        "        x = cnn_output_matrix*self.net_cwave(x2)\n",
        "\n",
        "        x = torch.sum(x,1)\n",
        "\n",
        "        output = self.mlp_out(x)\n",
        "\n",
        "        return output\n",
        "\n",
        "\n",
        "    def training_step(self, batch, batch_idx):\n",
        "        x, y_true = batch\n",
        "        x1,x2 = x\n",
        "\n",
        "        x1 = torch.cat([x1, torch.cat([torch.unsqueeze(x1[:,0,:,:],1),torch.unsqueeze(torch.zeros_like(x1[:,1,:,:]),1)],1)],0)\n",
        "        x2 = torch.cat([x2,x2],0)\n",
        "\n",
        "        y_pre = self.forward(x1,x2)\n",
        "\n",
        "\n",
        "        loss_f = nn.GaussianNLLLoss()\n",
        "        loss = loss_f(y_pre[:,0], torch.cat([torch.squeeze(y_true).float(),torch.squeeze(y_true).float()],0) ,y_pre[:,1])\n",
        "        self.log('train_loss', loss)\n",
        "\n",
        "        return loss\n",
        "\n",
        "\n",
        "\n",
        "    def validation_step(self, batch, batch_idx):\n",
        "\n",
        "        x, y_true = batch\n",
        "        x1,x2 = x\n",
        "        \n",
        "        y_pre = self.forward(x1,x2)\n",
        "\n",
        "        loss = F.mse_loss(y_pre[:,0], torch.squeeze(y_true))\n",
        "        self.log('val_loss', loss)\n",
        "    \n",
        "        return loss\n",
        "\n",
        "    def test_step(self, batch, batch_idx):\n",
        "\n",
        "        x, y_true = batch\n",
        "        x1,x2 = x\n",
        "        \n",
        "        y_pre = self.forward(x1,x2)\n",
        "        loss = F.mse_loss(y_pre[:,0], torch.squeeze(y_true))\n",
        "        self.log('test_loss', loss)\n",
        "        \n",
        "        return loss\n",
        "\n",
        "    def configure_optimizers(self):\n",
        "\n",
        "        optimizer = torch.optim.Adam(self.parameters(), lr=0.0003)\n",
        "        scheduler = ReduceLROnPlateau(optimizer, factor=0.8, patience= 1)\n",
        "\n",
        "        return { 'optimizer': optimizer, 'lr_scheduler': { 'scheduler': scheduler, 'monitor': 'val_loss', } }"
      ],
      "execution_count": 175,
      "outputs": []
    },
    {
      "cell_type": "markdown",
      "metadata": {
        "id": "Y6EZW7viNw5Q"
      },
      "source": [
        "# Average six prediction of model proposed which are trained with fixed epochs (Data augmentation and attention network)"
      ]
    },
    {
      "cell_type": "code",
      "metadata": {
        "id": "DMPqt7DBMTO4"
      },
      "source": [
        "class Net_comb_6(pl.LightningModule):\n",
        "    def __init__(self):\n",
        "        super().__init__()\n",
        "\n",
        "        self.m1 = Net_comb.load_from_checkpoint('/content/drive/MyDrive/sar_img/model/model_nllloss_k=8_256_batch_256_aug_fix_30epoch_p5_lr08_v1/lightning_logs/version_6/checkpoints/epoch=31-step=71199.ckpt')\n",
        "        self.m2 = Net_comb.load_from_checkpoint('/content/drive/MyDrive/sar_img/model/model_nllloss_k=8_256_batch_256_aug_fix_30epoch_p5_lr08_v1/lightning_logs/version_8/checkpoints/epoch=31-step=71199.ckpt')\n",
        "        self.m3 = Net_comb.load_from_checkpoint('/content/drive/MyDrive/sar_img/model/model_nllloss_k=8_256_batch_256_aug_fix_30epoch_p5_lr08_v2/lightning_logs/version_0/checkpoints/epoch=31-step=71199.ckpt')\n",
        "        self.m4 = Net_comb.load_from_checkpoint('/content/drive/MyDrive/sar_img/model/model_nllloss_k=8_256_batch_256_aug_fix_30epoch_p5_lr08_v2/lightning_logs/version_2/checkpoints/epoch=31-step=71199.ckpt')\n",
        "        self.m5 = Net_comb.load_from_checkpoint('/content/drive/MyDrive/sar_img/model/model_nllloss_k=8_256_batch_256_aug_fix_30epoch_p5_lr08_v2/lightning_logs/version_3/checkpoints/epoch=31-step=71199.ckpt')\n",
        "        self.m6 = Net_comb.load_from_checkpoint('/content/drive/MyDrive/sar_img/model/model_nllloss_k=8_256_batch_256_aug_fix_30epoch_p5_lr08_v2/lightning_logs/version_7/checkpoints/epoch=31-step=71199.ckpt')\n",
        "\n",
        "    def forward(self, x1,x2):\n",
        "\n",
        "        out = torch.cat([torch.unsqueeze(self.m1(x1,x2),2),torch.unsqueeze(self.m2(x1,x2),2),torch.unsqueeze(self.m3(x1,x2),2),torch.unsqueeze(self.m4(x1,x2),2),torch.unsqueeze(self.m5(x1,x2),2),torch.unsqueeze(self.m6(x1,x2),2)],2)\n",
        "        out = torch.mean(out,2)\n",
        "\n",
        "\n",
        "        return out\n",
        "\n",
        "    def training_step(self, batch, batch_idx):\n",
        "        x, y_true = batch\n",
        "        x1,x2 = x\n",
        "\n",
        "        x1 = torch.cat([x1, torch.cat([torch.unsqueeze(x1[:,0,:,:],1),torch.unsqueeze(torch.zeros_like(x1[:,1,:,:]),1)],1)],0)\n",
        "        x2 = torch.cat([x2,x2],0)\n",
        "\n",
        "        y_pre = self.forward(x1,x2)\n",
        "\n",
        "\n",
        "        loss_f = nn.GaussianNLLLoss()\n",
        "        loss = loss_f(y_pre[:,0], torch.cat([torch.squeeze(y_true).float(),torch.squeeze(y_true).float()],0) ,y_pre[:,1])\n",
        "        self.log('train_loss', loss)\n",
        "\n",
        "        return loss\n",
        "\n",
        "\n",
        "\n",
        "    def validation_step(self, batch, batch_idx):\n",
        "\n",
        "        x, y_true = batch\n",
        "        x1,x2 = x\n",
        "        \n",
        "        y_pre = self.forward(x1,x2)\n",
        "\n",
        "        loss = F.mse_loss(y_pre[:,0], torch.squeeze(y_true))\n",
        "        self.log('val_loss', loss)\n",
        "    \n",
        "        return loss\n",
        "\n",
        "    def test_step(self, batch, batch_idx):\n",
        "\n",
        "        x, y_true = batch\n",
        "        x1,x2 = x\n",
        "        \n",
        "        y_pre = self.forward(x1,x2)\n",
        "        loss = F.mse_loss(y_pre[:,0], torch.squeeze(y_true))\n",
        "        self.log('test_loss', loss)\n",
        "        \n",
        "        return loss\n",
        "\n",
        "    def predict_step(self, batch, batch_idx):\n",
        "        x, y_true = batch\n",
        "        x1,x2 = x\n",
        "\n",
        "        y_pre = self.forward(x1,x2)\n",
        "        return y_pre\n",
        "\n",
        "    def configure_optimizers(self):\n",
        "        \n",
        "        optimizer = torch.optim.Adam(self.parameters(), lr=0.0003)\n",
        "        scheduler = ReduceLROnPlateau(optimizer, factor=0.8, patience= 4)\n",
        "\n",
        "        return { 'optimizer': optimizer, 'lr_scheduler': { 'scheduler': scheduler, 'monitor': 'val_loss', } }\n",
        "    "
      ],
      "execution_count": null,
      "outputs": []
    },
    {
      "cell_type": "markdown",
      "metadata": {
        "id": "ZGCdwbcuN930"
      },
      "source": [
        "# Prediction"
      ]
    },
    {
      "cell_type": "code",
      "metadata": {
        "colab": {
          "base_uri": "https://localhost:8080/",
          "height": 208,
          "referenced_widgets": [
            "9168fc798a8e4b7e9d5461a73decd5e4"
          ]
        },
        "id": "e4qz7IbtMWj3",
        "outputId": "efdc3a69-aee2-46e6-9bbb-d66d168c9813"
      },
      "source": [
        "model_6 = Net_comb_6()\n",
        "trainer = pl.Trainer(gpus=1)\n",
        "predict_2018_test_k8_avg6_aug_fix = trainer.predict(model=model_6,dataloaders = data_loader_2018)"
      ],
      "execution_count": null,
      "outputs": [
        {
          "output_type": "stream",
          "name": "stderr",
          "text": [
            "GPU available: True, used: True\n",
            "TPU available: False, using: 0 TPU cores\n",
            "IPU available: False, using: 0 IPUs\n",
            "LOCAL_RANK: 0 - CUDA_VISIBLE_DEVICES: [0]\n",
            "/usr/local/lib/python3.7/dist-packages/pytorch_lightning/trainer/data_loading.py:106: UserWarning: The dataloader, predict dataloader 0, does not have many workers which may be a bottleneck. Consider increasing the value of the `num_workers` argument` (try 4 which is the number of cpus on this machine) in the `DataLoader` init to improve performance.\n",
            "  f\"The dataloader, {name}, does not have many workers which may be a bottleneck.\"\n"
          ]
        },
        {
          "output_type": "display_data",
          "data": {
            "application/vnd.jupyter.widget-view+json": {
              "model_id": "9168fc798a8e4b7e9d5461a73decd5e4",
              "version_minor": 0,
              "version_major": 2
            },
            "text/plain": [
              "Predicting: 0it [00:00, ?it/s]"
            ]
          },
          "metadata": {}
        },
        {
          "output_type": "stream",
          "name": "stderr",
          "text": [
            "/usr/local/lib/python3.7/dist-packages/torch/nn/functional.py:718: UserWarning: Named tensors and all their associated APIs are an experimental feature and subject to change. Please do not use them for anything important until they are released as stable. (Triggered internally at  /pytorch/c10/core/TensorImpl.h:1156.)\n",
            "  return torch.max_pool2d(input, kernel_size, stride, padding, dilation, ceil_mode)\n"
          ]
        }
      ]
    },
    {
      "cell_type": "code",
      "metadata": {
        "id": "xW2DJGa7NXwv"
      },
      "source": [
        "predict_2018_test_k8_avg6_aug_fix = torch.cat(predict_2018_test_k8_avg6_aug_fix)\n",
        "torch.save(predict_2018_test_k8_avg6_aug_fix, '/content/drive/MyDrive/sar_img/dataset/predict_2018_test_k8_avg6_aug_fix.pt')"
      ],
      "execution_count": 34,
      "outputs": []
    },
    {
      "cell_type": "code",
      "metadata": {
        "id": "Z5Kl45FXMjeh"
      },
      "source": [
        "predict_2018_test_k8_avg6_aug_fix = torch.load('/content/drive/MyDrive/sar_img/dataset/predict_2018_test_k8_avg6_aug_fix.pt',map_location=torch.device('cpu'))"
      ],
      "execution_count": 176,
      "outputs": []
    },
    {
      "cell_type": "markdown",
      "metadata": {
        "id": "0DZkjKHEOFSe"
      },
      "source": [
        "# Compute MSE of proposed model"
      ]
    },
    {
      "cell_type": "code",
      "metadata": {
        "id": "uUlPzp7uM4wy"
      },
      "source": [
        "mse_all = []\n",
        "for i in range(22):\n",
        "    mse_all.append(F.mse_loss( predict_2018_test_k8_avg6_aug_fix[index_all[i]][:,0,0],data_18_y[index_all[i]][:,0]))"
      ],
      "execution_count": 177,
      "outputs": []
    },
    {
      "cell_type": "code",
      "metadata": {
        "colab": {
          "base_uri": "https://localhost:8080/"
        },
        "id": "Bxh-WhErNSk1",
        "outputId": "3eeb4ffe-2c5d-4fc5-fcb4-32a31a728697"
      },
      "source": [
        "mse_all = np.array([mse.item() for mse in mse_all])\n",
        "mse_all"
      ],
      "execution_count": 178,
      "outputs": [
        {
          "output_type": "execute_result",
          "data": {
            "text/plain": [
              "array([0.53187186, 0.12454281, 0.04547141, 0.03533175, 0.04739319,\n",
              "       0.07038735, 0.09793201, 0.12298181, 0.14684632, 0.18339487,\n",
              "       0.2084623 , 0.22822303, 0.30917461, 0.40638516, 0.42082538,\n",
              "       0.66062497, 0.70898745, 0.80733592, 1.14699545, 1.09437573,\n",
              "       1.06864894, 1.35918206])"
            ]
          },
          "metadata": {},
          "execution_count": 178
        }
      ]
    },
    {
      "cell_type": "markdown",
      "metadata": {
        "id": "kv_pi3pxOKhg"
      },
      "source": [
        "# Compute STD of proposed model"
      ]
    },
    {
      "cell_type": "code",
      "metadata": {
        "id": "6NLMP6RpOVkd"
      },
      "source": [
        "def compute_std(y_hat,y_true,mse):\n",
        "  up_term = torch.sum( torch.square( torch.abs(y_hat-y_true) -mse ) )\n",
        "  return torch.sqrt(up_term/(len(y_true)-1))"
      ],
      "execution_count": 179,
      "outputs": []
    },
    {
      "cell_type": "code",
      "metadata": {
        "id": "sv4xI36VNllL"
      },
      "source": [
        "list_std = []\n",
        "for i in range(22):\n",
        "  list_std.append(compute_std(predict_2018_test_k8_avg6_aug_fix[:,0][index_all[i]],data_18_y[index_all[i]],mse_all[i]))"
      ],
      "execution_count": 180,
      "outputs": []
    },
    {
      "cell_type": "code",
      "metadata": {
        "id": "JOt_EyHsN2gZ",
        "colab": {
          "base_uri": "https://localhost:8080/"
        },
        "outputId": "2d7f90b9-2b57-48ad-a8d9-ea9bb03a7b4d"
      },
      "source": [
        "std_best = np.array([std.item() for std in list_std])\n",
        "std_best"
      ],
      "execution_count": 181,
      "outputs": [
        {
          "output_type": "execute_result",
          "data": {
            "text/plain": [
              "array([0.38138552, 0.25674136, 0.18182988, 0.16447984, 0.18624936,\n",
              "       0.22042753, 0.25206541, 0.27581447, 0.29609069, 0.32472123,\n",
              "       0.33891962, 0.34709503, 0.39319182, 0.44395385, 0.43769877,\n",
              "       0.54079872, 0.55255211, 0.59329293, 0.72004253, 0.74749207,\n",
              "       0.71804745, 0.68437086])"
            ]
          },
          "metadata": {},
          "execution_count": 181
        }
      ]
    },
    {
      "cell_type": "markdown",
      "metadata": {
        "id": "uSf85rsAONf1"
      },
      "source": [
        "# Prediction of Hawaiian model"
      ]
    },
    {
      "cell_type": "code",
      "metadata": {
        "id": "DHtGb_IE8gFF"
      },
      "source": [
        "import sys\n",
        "sys.path.append('/content/drive/MyDrive/sar_img/SAR-Wave-Height')\n",
        "\n",
        "from tensorflow.keras.models import load_model\n",
        "import keras\n",
        "\n",
        "from sarhs.generator import SARGenerator\n",
        "from sarhs.heteroskedastic import Gaussian_NLL, Gaussian_MSE\n"
      ],
      "execution_count": 182,
      "outputs": []
    },
    {
      "cell_type": "code",
      "metadata": {
        "id": "Zvo3wUzp8iUF"
      },
      "source": [
        "file_model = '/content/drive/MyDrive/sar_img/SAR-Wave-Height/models/heteroskedastic_2017.h5'\n",
        "custom_objects = {'Gaussian_NLL':Gaussian_NLL, 'Gaussian_MSE':Gaussian_MSE}\n",
        "model = load_model(file_model, custom_objects=custom_objects)"
      ],
      "execution_count": 53,
      "outputs": []
    },
    {
      "cell_type": "code",
      "metadata": {
        "id": "tuNI40XE8kRU"
      },
      "source": [
        "filename = '/content/drive/MyDrive/sar_img/dataset/aggregated_grouped_final.h5'\n",
        "test = SARGenerator(filename=filename, \n",
        "                     subgroups=['2018'], \n",
        "                     batch_size=1024)\n"
      ],
      "execution_count": 54,
      "outputs": []
    },
    {
      "cell_type": "code",
      "metadata": {
        "id": "2laL8isM8nLd"
      },
      "source": [
        "predict_2018_original_karas = model.predict(test)"
      ],
      "execution_count": 55,
      "outputs": []
    },
    {
      "cell_type": "code",
      "metadata": {
        "id": "6EPpB3Vl8rK5"
      },
      "source": [
        "np.save('/content/drive/MyDrive/sar_img/dataset/predict_2018_original_karas', predict_2018_original_karas)"
      ],
      "execution_count": 57,
      "outputs": []
    },
    {
      "cell_type": "code",
      "metadata": {
        "id": "gsOWpxDB9h-q"
      },
      "source": [
        "predict_2018_original_karas = np.load('/content/drive/MyDrive/sar_img/dataset/predict_2018_original_karas.npy')"
      ],
      "execution_count": 183,
      "outputs": []
    },
    {
      "cell_type": "markdown",
      "metadata": {
        "id": "4bIKjJL_OWSC"
      },
      "source": [
        "# Compute MSE of Hawaiian model"
      ]
    },
    {
      "cell_type": "code",
      "metadata": {
        "id": "IkgOv4o_9p_W"
      },
      "source": [
        "mse_all_keras = []\n",
        "for i in range(22):\n",
        "    mse_all_keras.append(F.mse_loss( torch.tensor(predict_2018_original_karas[index_all[i]][:,0,0]), torch.tensor(data_18_y.numpy()[index_all[i]][:,0])))"
      ],
      "execution_count": 184,
      "outputs": []
    },
    {
      "cell_type": "code",
      "metadata": {
        "colab": {
          "base_uri": "https://localhost:8080/"
        },
        "id": "FvsGYG-5CVCO",
        "outputId": "b6979a9e-3884-4939-aeba-0c3083ad9e61"
      },
      "source": [
        "mse_all_keras = np.array([mse.item() for mse in mse_all_keras])\n",
        "mse_all_keras"
      ],
      "execution_count": 185,
      "outputs": [
        {
          "output_type": "execute_result",
          "data": {
            "text/plain": [
              "array([0.76144012, 0.22804826, 0.08137826, 0.05065595, 0.0592405 ,\n",
              "       0.08194562, 0.11086507, 0.14025721, 0.17046908, 0.20742068,\n",
              "       0.24115347, 0.28746568, 0.3783706 , 0.47789989, 0.52633776,\n",
              "       0.86976703, 0.89072915, 1.16020279, 1.53541492, 1.58776032,\n",
              "       1.7551292 , 2.25546944])"
            ]
          },
          "metadata": {},
          "execution_count": 185
        }
      ]
    },
    {
      "cell_type": "markdown",
      "metadata": {
        "id": "HjX7kNYdOlmb"
      },
      "source": [
        "# Compute STD of Hawaiian model"
      ]
    },
    {
      "cell_type": "code",
      "metadata": {
        "id": "gjyeY-apCn1l"
      },
      "source": [
        "def compute_std(y_hat,y_true,mse):\n",
        "  up_term = torch.sum( torch.square( torch.abs(y_hat-y_true) -mse ) )\n",
        "  return torch.sqrt(up_term/(len(y_true)-1))\n",
        "\n",
        "list_std_keras = []\n",
        "for i in range(22):\n",
        "  list_std_keras.append(compute_std(torch.tensor(predict_2018_original_karas[index_all[i]][:,0])[:,0],data_18_y[index_all[i]][:,0],mse_all[i]))\n",
        "\n"
      ],
      "execution_count": 186,
      "outputs": []
    },
    {
      "cell_type": "code",
      "metadata": {
        "colab": {
          "base_uri": "https://localhost:8080/"
        },
        "id": "FwjRkrqkCvZI",
        "outputId": "f8e8917b-7e41-40d0-aff1-4d95b1f92597"
      },
      "source": [
        "std_keras = np.array([std.item() for std in list_std_keras])\n",
        "std_keras"
      ],
      "execution_count": 187,
      "outputs": [
        {
          "output_type": "execute_result",
          "data": {
            "text/plain": [
              "array([0.46909515, 0.37194675, 0.25084406, 0.20121169, 0.2112496 ,\n",
              "       0.23986472, 0.26956939, 0.29517338, 0.31954186, 0.34286918,\n",
              "       0.36427312, 0.39295203, 0.43239949, 0.4738849 , 0.47958597,\n",
              "       0.58532468, 0.60213663, 0.63545157, 0.76737118, 0.7453524 ,\n",
              "       0.69090822, 0.84582854])"
            ]
          },
          "metadata": {},
          "execution_count": 187
        }
      ]
    },
    {
      "cell_type": "markdown",
      "metadata": {
        "id": "xK6pRCKkOnwK"
      },
      "source": [
        "# Plot MSE&STD"
      ]
    },
    {
      "cell_type": "code",
      "metadata": {
        "colab": {
          "base_uri": "https://localhost:8080/",
          "height": 377
        },
        "id": "LLsMu64Qu_UP",
        "outputId": "cd860bd9-aa98-49d3-90da-33639f4df87e"
      },
      "source": [
        "plt.figure(figsize=(6, 5))\n",
        "plt.plot(np.arange(1,23)*0.5, mse_all, '-',label='This study')\n",
        "plt.plot(np.arange(1,23)*0.5, mse_all_keras, '-',label='Quash et al. 2021')\n",
        "plt.fill_between(np.arange(1,23)*0.5, np.array(mse_all) - np.array(std_best),  np.array(mse_all) + np.array(std_best), alpha=0.2)\n",
        "plt.fill_between(np.arange(1,23)*0.5, np.array(mse_all_keras) - np.array(std_keras),  np.array(mse_all_keras) + np.array(std_keras), alpha=0.2)\n",
        "plt.title('S-1/ALT', fontsize=20)\n",
        "\n",
        "plt.ylabel('Hs RMSE ± STD', fontsize=15)\n",
        "plt.xlabel('ALT Hs [m]', fontsize=15)\n",
        "plt.grid()\n",
        "plt.legend(fontsize=10)"
      ],
      "execution_count": 188,
      "outputs": [
        {
          "output_type": "execute_result",
          "data": {
            "text/plain": [
              "<matplotlib.legend.Legend at 0x7f970cb93950>"
            ]
          },
          "metadata": {},
          "execution_count": 188
        },
        {
          "output_type": "display_data",
          "data": {
            "image/png": "[encoded data removed]",
            "text/plain": [
              "<Figure size 432x360 with 1 Axes>"
            ]
          },
          "metadata": {
            "needs_background": "light"
          }
        }
      ]
    },
    {
      "cell_type": "code",
      "metadata": {
        "id": "50JJ0WzkD73J"
      },
      "source": [
        ""
      ],
      "execution_count": null,
      "outputs": []
    }
  ]
}