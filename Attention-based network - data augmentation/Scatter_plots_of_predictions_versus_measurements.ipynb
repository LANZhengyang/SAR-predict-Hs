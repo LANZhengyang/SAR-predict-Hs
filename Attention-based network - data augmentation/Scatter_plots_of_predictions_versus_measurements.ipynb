{
  "nbformat": 4,
  "nbformat_minor": 0,
  "metadata": {
    "colab": {
      "name": "Scatter plots of predictions versus measurements.ipynb",
      "provenance": [],
      "collapsed_sections": [],
      "machine_shape": "hm"
    },
    "kernelspec": {
      "name": "python3",
      "display_name": "Python 3"
    },
    "language_info": {
      "name": "python"
    },
    "accelerator": "GPU",
    "widgets": {
      "application/vnd.jupyter.widget-state+json": {
        "c58dd9b0279a4079984be2d3a2e954ef": {
          "model_module": "@jupyter-widgets/controls",
          "model_name": "HBoxModel",
          "model_module_version": "1.5.0",
          "state": {
            "_view_name": "HBoxView",
            "_dom_classes": [],
            "_model_name": "HBoxModel",
            "_view_module": "@jupyter-widgets/controls",
            "_model_module_version": "1.5.0",
            "_view_count": null,
            "_view_module_version": "1.5.0",
            "box_style": "",
            "layout": "IPY_MODEL_fe8c054260da47a3a48755df0deea4d4",
            "_model_module": "@jupyter-widgets/controls",
            "children": [
              "IPY_MODEL_e311720d53de483398f4baf214e60ef2",
              "IPY_MODEL_166b448037684ebca179a24d25116b3b",
              "IPY_MODEL_1f1ce65593a641fb8192aa5f86e99ec6"
            ]
          }
        },
        "fe8c054260da47a3a48755df0deea4d4": {
          "model_module": "@jupyter-widgets/base",
          "model_name": "LayoutModel",
          "model_module_version": "1.2.0",
          "state": {
            "_view_name": "LayoutView",
            "grid_template_rows": null,
            "right": null,
            "justify_content": null,
            "_view_module": "@jupyter-widgets/base",
            "overflow": null,
            "_model_module_version": "1.2.0",
            "_view_count": null,
            "flex_flow": "row wrap",
            "width": "100%",
            "min_width": null,
            "border": null,
            "align_items": null,
            "bottom": null,
            "_model_module": "@jupyter-widgets/base",
            "top": null,
            "grid_column": null,
            "overflow_y": null,
            "overflow_x": null,
            "grid_auto_flow": null,
            "grid_area": null,
            "grid_template_columns": null,
            "flex": null,
            "_model_name": "LayoutModel",
            "justify_items": null,
            "grid_row": null,
            "max_height": null,
            "align_content": null,
            "visibility": null,
            "align_self": null,
            "height": null,
            "min_height": null,
            "padding": null,
            "grid_auto_rows": null,
            "grid_gap": null,
            "max_width": null,
            "order": null,
            "_view_module_version": "1.2.0",
            "grid_template_areas": null,
            "object_position": null,
            "object_fit": null,
            "grid_auto_columns": null,
            "margin": null,
            "display": "inline-flex",
            "left": null
          }
        },
        "e311720d53de483398f4baf214e60ef2": {
          "model_module": "@jupyter-widgets/controls",
          "model_name": "HTMLModel",
          "model_module_version": "1.5.0",
          "state": {
            "_view_name": "HTMLView",
            "style": "IPY_MODEL_d8463db4ae9a47a187fedba86fd2aa16",
            "_dom_classes": [],
            "description": "",
            "_model_name": "HTMLModel",
            "placeholder": "​",
            "_view_module": "@jupyter-widgets/controls",
            "_model_module_version": "1.5.0",
            "value": "Testing: 100%",
            "_view_count": null,
            "_view_module_version": "1.5.0",
            "description_tooltip": null,
            "_model_module": "@jupyter-widgets/controls",
            "layout": "IPY_MODEL_a893195c40bd43fbb9bd13e941fc11c3"
          }
        },
        "166b448037684ebca179a24d25116b3b": {
          "model_module": "@jupyter-widgets/controls",
          "model_name": "FloatProgressModel",
          "model_module_version": "1.5.0",
          "state": {
            "_view_name": "ProgressView",
            "style": "IPY_MODEL_bcf25a342c344d6386efc755bd1c9614",
            "_dom_classes": [],
            "description": "",
            "_model_name": "FloatProgressModel",
            "bar_style": "success",
            "max": 1,
            "_view_module": "@jupyter-widgets/controls",
            "_model_module_version": "1.5.0",
            "value": 1,
            "_view_count": null,
            "_view_module_version": "1.5.0",
            "orientation": "horizontal",
            "min": 0,
            "description_tooltip": null,
            "_model_module": "@jupyter-widgets/controls",
            "layout": "IPY_MODEL_30e3eb9b03634cb9b8ebd6fd6c8761c4"
          }
        },
        "1f1ce65593a641fb8192aa5f86e99ec6": {
          "model_module": "@jupyter-widgets/controls",
          "model_name": "HTMLModel",
          "model_module_version": "1.5.0",
          "state": {
            "_view_name": "HTMLView",
            "style": "IPY_MODEL_2e7d3348a64148d687957b3d48baecb5",
            "_dom_classes": [],
            "description": "",
            "_model_name": "HTMLModel",
            "placeholder": "​",
            "_view_module": "@jupyter-widgets/controls",
            "_model_module_version": "1.5.0",
            "value": " 181/181 [08:08&lt;00:00,  2.70s/it]",
            "_view_count": null,
            "_view_module_version": "1.5.0",
            "description_tooltip": null,
            "_model_module": "@jupyter-widgets/controls",
            "layout": "IPY_MODEL_6ce043b7c7d549599e67ae4b78fb297d"
          }
        },
        "d8463db4ae9a47a187fedba86fd2aa16": {
          "model_module": "@jupyter-widgets/controls",
          "model_name": "DescriptionStyleModel",
          "model_module_version": "1.5.0",
          "state": {
            "_view_name": "StyleView",
            "_model_name": "DescriptionStyleModel",
            "description_width": "",
            "_view_module": "@jupyter-widgets/base",
            "_model_module_version": "1.5.0",
            "_view_count": null,
            "_view_module_version": "1.2.0",
            "_model_module": "@jupyter-widgets/controls"
          }
        },
        "a893195c40bd43fbb9bd13e941fc11c3": {
          "model_module": "@jupyter-widgets/base",
          "model_name": "LayoutModel",
          "model_module_version": "1.2.0",
          "state": {
            "_view_name": "LayoutView",
            "grid_template_rows": null,
            "right": null,
            "justify_content": null,
            "_view_module": "@jupyter-widgets/base",
            "overflow": null,
            "_model_module_version": "1.2.0",
            "_view_count": null,
            "flex_flow": null,
            "width": null,
            "min_width": null,
            "border": null,
            "align_items": null,
            "bottom": null,
            "_model_module": "@jupyter-widgets/base",
            "top": null,
            "grid_column": null,
            "overflow_y": null,
            "overflow_x": null,
            "grid_auto_flow": null,
            "grid_area": null,
            "grid_template_columns": null,
            "flex": null,
            "_model_name": "LayoutModel",
            "justify_items": null,
            "grid_row": null,
            "max_height": null,
            "align_content": null,
            "visibility": null,
            "align_self": null,
            "height": null,
            "min_height": null,
            "padding": null,
            "grid_auto_rows": null,
            "grid_gap": null,
            "max_width": null,
            "order": null,
            "_view_module_version": "1.2.0",
            "grid_template_areas": null,
            "object_position": null,
            "object_fit": null,
            "grid_auto_columns": null,
            "margin": null,
            "display": null,
            "left": null
          }
        },
        "bcf25a342c344d6386efc755bd1c9614": {
          "model_module": "@jupyter-widgets/controls",
          "model_name": "ProgressStyleModel",
          "model_module_version": "1.5.0",
          "state": {
            "_view_name": "StyleView",
            "_model_name": "ProgressStyleModel",
            "description_width": "",
            "_view_module": "@jupyter-widgets/base",
            "_model_module_version": "1.5.0",
            "_view_count": null,
            "_view_module_version": "1.2.0",
            "bar_color": null,
            "_model_module": "@jupyter-widgets/controls"
          }
        },
        "30e3eb9b03634cb9b8ebd6fd6c8761c4": {
          "model_module": "@jupyter-widgets/base",
          "model_name": "LayoutModel",
          "model_module_version": "1.2.0",
          "state": {
            "_view_name": "LayoutView",
            "grid_template_rows": null,
            "right": null,
            "justify_content": null,
            "_view_module": "@jupyter-widgets/base",
            "overflow": null,
            "_model_module_version": "1.2.0",
            "_view_count": null,
            "flex_flow": null,
            "width": null,
            "min_width": null,
            "border": null,
            "align_items": null,
            "bottom": null,
            "_model_module": "@jupyter-widgets/base",
            "top": null,
            "grid_column": null,
            "overflow_y": null,
            "overflow_x": null,
            "grid_auto_flow": null,
            "grid_area": null,
            "grid_template_columns": null,
            "flex": "2",
            "_model_name": "LayoutModel",
            "justify_items": null,
            "grid_row": null,
            "max_height": null,
            "align_content": null,
            "visibility": null,
            "align_self": null,
            "height": null,
            "min_height": null,
            "padding": null,
            "grid_auto_rows": null,
            "grid_gap": null,
            "max_width": null,
            "order": null,
            "_view_module_version": "1.2.0",
            "grid_template_areas": null,
            "object_position": null,
            "object_fit": null,
            "grid_auto_columns": null,
            "margin": null,
            "display": null,
            "left": null
          }
        },
        "2e7d3348a64148d687957b3d48baecb5": {
          "model_module": "@jupyter-widgets/controls",
          "model_name": "DescriptionStyleModel",
          "model_module_version": "1.5.0",
          "state": {
            "_view_name": "StyleView",
            "_model_name": "DescriptionStyleModel",
            "description_width": "",
            "_view_module": "@jupyter-widgets/base",
            "_model_module_version": "1.5.0",
            "_view_count": null,
            "_view_module_version": "1.2.0",
            "_model_module": "@jupyter-widgets/controls"
          }
        },
        "6ce043b7c7d549599e67ae4b78fb297d": {
          "model_module": "@jupyter-widgets/base",
          "model_name": "LayoutModel",
          "model_module_version": "1.2.0",
          "state": {
            "_view_name": "LayoutView",
            "grid_template_rows": null,
            "right": null,
            "justify_content": null,
            "_view_module": "@jupyter-widgets/base",
            "overflow": null,
            "_model_module_version": "1.2.0",
            "_view_count": null,
            "flex_flow": null,
            "width": null,
            "min_width": null,
            "border": null,
            "align_items": null,
            "bottom": null,
            "_model_module": "@jupyter-widgets/base",
            "top": null,
            "grid_column": null,
            "overflow_y": null,
            "overflow_x": null,
            "grid_auto_flow": null,
            "grid_area": null,
            "grid_template_columns": null,
            "flex": null,
            "_model_name": "LayoutModel",
            "justify_items": null,
            "grid_row": null,
            "max_height": null,
            "align_content": null,
            "visibility": null,
            "align_self": null,
            "height": null,
            "min_height": null,
            "padding": null,
            "grid_auto_rows": null,
            "grid_gap": null,
            "max_width": null,
            "order": null,
            "_view_module_version": "1.2.0",
            "grid_template_areas": null,
            "object_position": null,
            "object_fit": null,
            "grid_auto_columns": null,
            "margin": null,
            "display": null,
            "left": null
          }
        },
        "79a7181b9ed44f45b6a962556d3500c5": {
          "model_module": "@jupyter-widgets/controls",
          "model_name": "HBoxModel",
          "model_module_version": "1.5.0",
          "state": {
            "_view_name": "HBoxView",
            "_dom_classes": [],
            "_model_name": "HBoxModel",
            "_view_module": "@jupyter-widgets/controls",
            "_model_module_version": "1.5.0",
            "_view_count": null,
            "_view_module_version": "1.5.0",
            "box_style": "",
            "layout": "IPY_MODEL_0b922d8ae4b74e349cbaa6b6a21f31e5",
            "_model_module": "@jupyter-widgets/controls",
            "children": [
              "IPY_MODEL_83d6831c23b7461e9a33bbeb7fe0f543",
              "IPY_MODEL_3512730f0d7a46b4a47fb14a1586d8f0",
              "IPY_MODEL_e6feac78e6bf414ab8ead9548e41b9c6"
            ]
          }
        },
        "0b922d8ae4b74e349cbaa6b6a21f31e5": {
          "model_module": "@jupyter-widgets/base",
          "model_name": "LayoutModel",
          "model_module_version": "1.2.0",
          "state": {
            "_view_name": "LayoutView",
            "grid_template_rows": null,
            "right": null,
            "justify_content": null,
            "_view_module": "@jupyter-widgets/base",
            "overflow": null,
            "_model_module_version": "1.2.0",
            "_view_count": null,
            "flex_flow": "row wrap",
            "width": "100%",
            "min_width": null,
            "border": null,
            "align_items": null,
            "bottom": null,
            "_model_module": "@jupyter-widgets/base",
            "top": null,
            "grid_column": null,
            "overflow_y": null,
            "overflow_x": null,
            "grid_auto_flow": null,
            "grid_area": null,
            "grid_template_columns": null,
            "flex": null,
            "_model_name": "LayoutModel",
            "justify_items": null,
            "grid_row": null,
            "max_height": null,
            "align_content": null,
            "visibility": null,
            "align_self": null,
            "height": null,
            "min_height": null,
            "padding": null,
            "grid_auto_rows": null,
            "grid_gap": null,
            "max_width": null,
            "order": null,
            "_view_module_version": "1.2.0",
            "grid_template_areas": null,
            "object_position": null,
            "object_fit": null,
            "grid_auto_columns": null,
            "margin": null,
            "display": "inline-flex",
            "left": null
          }
        },
        "83d6831c23b7461e9a33bbeb7fe0f543": {
          "model_module": "@jupyter-widgets/controls",
          "model_name": "HTMLModel",
          "model_module_version": "1.5.0",
          "state": {
            "_view_name": "HTMLView",
            "style": "IPY_MODEL_e017332571b74a77b8deb119278bf054",
            "_dom_classes": [],
            "description": "",
            "_model_name": "HTMLModel",
            "placeholder": "​",
            "_view_module": "@jupyter-widgets/controls",
            "_model_module_version": "1.5.0",
            "value": "Predicting: 100%",
            "_view_count": null,
            "_view_module_version": "1.5.0",
            "description_tooltip": null,
            "_model_module": "@jupyter-widgets/controls",
            "layout": "IPY_MODEL_665be94d171147a68d45d8eb751133fd"
          }
        },
        "3512730f0d7a46b4a47fb14a1586d8f0": {
          "model_module": "@jupyter-widgets/controls",
          "model_name": "FloatProgressModel",
          "model_module_version": "1.5.0",
          "state": {
            "_view_name": "ProgressView",
            "style": "IPY_MODEL_01d00ae8593542c6b4fed5ae55439a89",
            "_dom_classes": [],
            "description": "",
            "_model_name": "FloatProgressModel",
            "bar_style": "success",
            "max": 1,
            "_view_module": "@jupyter-widgets/controls",
            "_model_module_version": "1.5.0",
            "value": 1,
            "_view_count": null,
            "_view_module_version": "1.5.0",
            "orientation": "horizontal",
            "min": 0,
            "description_tooltip": null,
            "_model_module": "@jupyter-widgets/controls",
            "layout": "IPY_MODEL_6037e732a3b04db7989c53413a15e7aa"
          }
        },
        "e6feac78e6bf414ab8ead9548e41b9c6": {
          "model_module": "@jupyter-widgets/controls",
          "model_name": "HTMLModel",
          "model_module_version": "1.5.0",
          "state": {
            "_view_name": "HTMLView",
            "style": "IPY_MODEL_e9e65ba63f694b51b3279b3c1da58aef",
            "_dom_classes": [],
            "description": "",
            "_model_name": "HTMLModel",
            "placeholder": "​",
            "_view_module": "@jupyter-widgets/controls",
            "_model_module_version": "1.5.0",
            "value": " 181/181 [07:18&lt;00:00,  2.42s/it]",
            "_view_count": null,
            "_view_module_version": "1.5.0",
            "description_tooltip": null,
            "_model_module": "@jupyter-widgets/controls",
            "layout": "IPY_MODEL_a2936551f816413d8ee8c85b8d2ad590"
          }
        },
        "e017332571b74a77b8deb119278bf054": {
          "model_module": "@jupyter-widgets/controls",
          "model_name": "DescriptionStyleModel",
          "model_module_version": "1.5.0",
          "state": {
            "_view_name": "StyleView",
            "_model_name": "DescriptionStyleModel",
            "description_width": "",
            "_view_module": "@jupyter-widgets/base",
            "_model_module_version": "1.5.0",
            "_view_count": null,
            "_view_module_version": "1.2.0",
            "_model_module": "@jupyter-widgets/controls"
          }
        },
        "665be94d171147a68d45d8eb751133fd": {
          "model_module": "@jupyter-widgets/base",
          "model_name": "LayoutModel",
          "model_module_version": "1.2.0",
          "state": {
            "_view_name": "LayoutView",
            "grid_template_rows": null,
            "right": null,
            "justify_content": null,
            "_view_module": "@jupyter-widgets/base",
            "overflow": null,
            "_model_module_version": "1.2.0",
            "_view_count": null,
            "flex_flow": null,
            "width": null,
            "min_width": null,
            "border": null,
            "align_items": null,
            "bottom": null,
            "_model_module": "@jupyter-widgets/base",
            "top": null,
            "grid_column": null,
            "overflow_y": null,
            "overflow_x": null,
            "grid_auto_flow": null,
            "grid_area": null,
            "grid_template_columns": null,
            "flex": null,
            "_model_name": "LayoutModel",
            "justify_items": null,
            "grid_row": null,
            "max_height": null,
            "align_content": null,
            "visibility": null,
            "align_self": null,
            "height": null,
            "min_height": null,
            "padding": null,
            "grid_auto_rows": null,
            "grid_gap": null,
            "max_width": null,
            "order": null,
            "_view_module_version": "1.2.0",
            "grid_template_areas": null,
            "object_position": null,
            "object_fit": null,
            "grid_auto_columns": null,
            "margin": null,
            "display": null,
            "left": null
          }
        },
        "01d00ae8593542c6b4fed5ae55439a89": {
          "model_module": "@jupyter-widgets/controls",
          "model_name": "ProgressStyleModel",
          "model_module_version": "1.5.0",
          "state": {
            "_view_name": "StyleView",
            "_model_name": "ProgressStyleModel",
            "description_width": "",
            "_view_module": "@jupyter-widgets/base",
            "_model_module_version": "1.5.0",
            "_view_count": null,
            "_view_module_version": "1.2.0",
            "bar_color": null,
            "_model_module": "@jupyter-widgets/controls"
          }
        },
        "6037e732a3b04db7989c53413a15e7aa": {
          "model_module": "@jupyter-widgets/base",
          "model_name": "LayoutModel",
          "model_module_version": "1.2.0",
          "state": {
            "_view_name": "LayoutView",
            "grid_template_rows": null,
            "right": null,
            "justify_content": null,
            "_view_module": "@jupyter-widgets/base",
            "overflow": null,
            "_model_module_version": "1.2.0",
            "_view_count": null,
            "flex_flow": null,
            "width": null,
            "min_width": null,
            "border": null,
            "align_items": null,
            "bottom": null,
            "_model_module": "@jupyter-widgets/base",
            "top": null,
            "grid_column": null,
            "overflow_y": null,
            "overflow_x": null,
            "grid_auto_flow": null,
            "grid_area": null,
            "grid_template_columns": null,
            "flex": "2",
            "_model_name": "LayoutModel",
            "justify_items": null,
            "grid_row": null,
            "max_height": null,
            "align_content": null,
            "visibility": null,
            "align_self": null,
            "height": null,
            "min_height": null,
            "padding": null,
            "grid_auto_rows": null,
            "grid_gap": null,
            "max_width": null,
            "order": null,
            "_view_module_version": "1.2.0",
            "grid_template_areas": null,
            "object_position": null,
            "object_fit": null,
            "grid_auto_columns": null,
            "margin": null,
            "display": null,
            "left": null
          }
        },
        "e9e65ba63f694b51b3279b3c1da58aef": {
          "model_module": "@jupyter-widgets/controls",
          "model_name": "DescriptionStyleModel",
          "model_module_version": "1.5.0",
          "state": {
            "_view_name": "StyleView",
            "_model_name": "DescriptionStyleModel",
            "description_width": "",
            "_view_module": "@jupyter-widgets/base",
            "_model_module_version": "1.5.0",
            "_view_count": null,
            "_view_module_version": "1.2.0",
            "_model_module": "@jupyter-widgets/controls"
          }
        },
        "a2936551f816413d8ee8c85b8d2ad590": {
          "model_module": "@jupyter-widgets/base",
          "model_name": "LayoutModel",
          "model_module_version": "1.2.0",
          "state": {
            "_view_name": "LayoutView",
            "grid_template_rows": null,
            "right": null,
            "justify_content": null,
            "_view_module": "@jupyter-widgets/base",
            "overflow": null,
            "_model_module_version": "1.2.0",
            "_view_count": null,
            "flex_flow": null,
            "width": null,
            "min_width": null,
            "border": null,
            "align_items": null,
            "bottom": null,
            "_model_module": "@jupyter-widgets/base",
            "top": null,
            "grid_column": null,
            "overflow_y": null,
            "overflow_x": null,
            "grid_auto_flow": null,
            "grid_area": null,
            "grid_template_columns": null,
            "flex": null,
            "_model_name": "LayoutModel",
            "justify_items": null,
            "grid_row": null,
            "max_height": null,
            "align_content": null,
            "visibility": null,
            "align_self": null,
            "height": null,
            "min_height": null,
            "padding": null,
            "grid_auto_rows": null,
            "grid_gap": null,
            "max_width": null,
            "order": null,
            "_view_module_version": "1.2.0",
            "grid_template_areas": null,
            "object_position": null,
            "object_fit": null,
            "grid_auto_columns": null,
            "margin": null,
            "display": null,
            "left": null
          }
        }
      }
    }
  },
  "cells": [
    {
      "cell_type": "code",
      "metadata": {
        "id": "8b8eG_mAAfDu"
      },
      "source": [
        "import sys\n",
        "from matplotlib.colors import LinearSegmentedColormap\n",
        "import numpy as np\n",
        "\n",
        "import torch\n",
        "import torch.nn as nn\n",
        "import torch.nn.functional as F\n",
        "from torch.optim.lr_scheduler import ReduceLROnPlateau\n",
        "\n",
        "from torch.utils.data import Dataset\n",
        "from torch.utils.data import DataLoader\n",
        "import math\n",
        "import matplotlib.pyplot as plt\n",
        "\n",
        "device = torch.device(\"cuda:0\" if torch.cuda.is_available() else \"cpu\")\n",
        "print(device)\n",
        "\n",
        "cm_data = [[1,1,1], #added\n",
        "    [0.2081, 0.1663, 0.5292], [0.2116238095, 0.1897809524, 0.5776761905], \n",
        " [0.212252381, 0.2137714286, 0.6269714286], [0.2081, 0.2386, 0.6770857143], \n",
        " [0.1959047619, 0.2644571429, 0.7279], [0.1707285714, 0.2919380952, \n",
        "  0.779247619], [0.1252714286, 0.3242428571, 0.8302714286], \n",
        " [0.0591333333, 0.3598333333, 0.8683333333], [0.0116952381, 0.3875095238, \n",
        "  0.8819571429], [0.0059571429, 0.4086142857, 0.8828428571], \n",
        " [0.0165142857, 0.4266, 0.8786333333], [0.032852381, 0.4430428571, \n",
        "  0.8719571429], [0.0498142857, 0.4585714286, 0.8640571429], \n",
        " [0.0629333333, 0.4736904762, 0.8554380952], [0.0722666667, 0.4886666667, \n",
        "  0.8467], [0.0779428571, 0.5039857143, 0.8383714286], \n",
        " [0.079347619, 0.5200238095, 0.8311809524], [0.0749428571, 0.5375428571, \n",
        "  0.8262714286], [0.0640571429, 0.5569857143, 0.8239571429], \n",
        " [0.0487714286, 0.5772238095, 0.8228285714], [0.0343428571, 0.5965809524, \n",
        "  0.819852381], [0.0265, 0.6137, 0.8135], [0.0238904762, 0.6286619048, \n",
        "  0.8037619048], [0.0230904762, 0.6417857143, 0.7912666667], \n",
        " [0.0227714286, 0.6534857143, 0.7767571429], [0.0266619048, 0.6641952381, \n",
        "  0.7607190476], [0.0383714286, 0.6742714286, 0.743552381], \n",
        " [0.0589714286, 0.6837571429, 0.7253857143], \n",
        " [0.0843, 0.6928333333, 0.7061666667], [0.1132952381, 0.7015, 0.6858571429], \n",
        " [0.1452714286, 0.7097571429, 0.6646285714], [0.1801333333, 0.7176571429, \n",
        "  0.6424333333], [0.2178285714, 0.7250428571, 0.6192619048], \n",
        " [0.2586428571, 0.7317142857, 0.5954285714], [0.3021714286, 0.7376047619, \n",
        "  0.5711857143], [0.3481666667, 0.7424333333, 0.5472666667], \n",
        " [0.3952571429, 0.7459, 0.5244428571], [0.4420095238, 0.7480809524, \n",
        "  0.5033142857], [0.4871238095, 0.7490619048, 0.4839761905], \n",
        " [0.5300285714, 0.7491142857, 0.4661142857], [0.5708571429, 0.7485190476, \n",
        "  0.4493904762], [0.609852381, 0.7473142857, 0.4336857143], \n",
        " [0.6473, 0.7456, 0.4188], [0.6834190476, 0.7434761905, 0.4044333333], \n",
        " [0.7184095238, 0.7411333333, 0.3904761905], \n",
        " [0.7524857143, 0.7384, 0.3768142857], [0.7858428571, 0.7355666667, \n",
        "  0.3632714286], [0.8185047619, 0.7327333333, 0.3497904762], \n",
        " [0.8506571429, 0.7299, 0.3360285714], [0.8824333333, 0.7274333333, 0.3217], \n",
        " [0.9139333333, 0.7257857143, 0.3062761905], [0.9449571429, 0.7261142857, \n",
        "  0.2886428571], [0.9738952381, 0.7313952381, 0.266647619], \n",
        " [0.9937714286, 0.7454571429, 0.240347619], [0.9990428571, 0.7653142857, \n",
        "  0.2164142857], [0.9955333333, 0.7860571429, 0.196652381], \n",
        " [0.988, 0.8066, 0.1793666667], [0.9788571429, 0.8271428571, 0.1633142857], \n",
        " [0.9697, 0.8481380952, 0.147452381], [0.9625857143, 0.8705142857, 0.1309], \n",
        " [0.9588714286, 0.8949, 0.1132428571], [0.9598238095, 0.9218333333, \n",
        "  0.0948380952], [0.9661, 0.9514428571, 0.0755333333], \n",
        " [0.9763, 0.9831, 0.0538]]\n",
        "\n",
        "parula_map = LinearSegmentedColormap.from_list('parula', cm_data)"
      ],
      "execution_count": 1,
      "outputs": []
    },
    {
      "cell_type": "code",
      "metadata": {
        "colab": {
          "base_uri": "https://localhost:8080/"
        },
        "id": "25fmVj1WB20h",
        "outputId": "f63255a1-8f6b-4626-e30f-31858c96b182"
      },
      "source": [
        "# !git clone https://gitlab.ifremer.fr/lops-wave/scatterplot.git"
      ],
      "execution_count": 2,
      "outputs": [
        {
          "output_type": "stream",
          "name": "stdout",
          "text": [
            "Cloning into 'scatterplot'...\n",
            "remote: Enumerating objects: 9, done.\u001b[K\n",
            "remote: Total 9 (delta 0), reused 0 (delta 0), pack-reused 9\u001b[K\n",
            "Unpacking objects: 100% (9/9), done.\n"
          ]
        }
      ]
    },
    {
      "cell_type": "code",
      "metadata": {
        "colab": {
          "base_uri": "https://localhost:8080/"
        },
        "id": "AJMl6KmcE8-m",
        "outputId": "c3a53286-4922-4974-ac6d-835aa889e262"
      },
      "source": [
        "!pip install pytorch-lightning\n",
        "import pytorch_lightning as pl\n",
        "from pytorch_lightning.callbacks.early_stopping import EarlyStopping"
      ],
      "execution_count": 4,
      "outputs": [
        {
          "output_type": "stream",
          "name": "stdout",
          "text": [
            "Collecting pytorch-lightning\n",
            "  Downloading pytorch_lightning-1.4.9-py3-none-any.whl (925 kB)\n",
            "\u001b[K     |████████████████████████████████| 925 kB 6.6 MB/s \n",
            "\u001b[?25hCollecting future>=0.17.1\n",
            "  Downloading future-0.18.2.tar.gz (829 kB)\n",
            "\u001b[K     |████████████████████████████████| 829 kB 65.6 MB/s \n",
            "\u001b[?25hRequirement already satisfied: tqdm>=4.41.0 in /usr/local/lib/python3.7/dist-packages (from pytorch-lightning) (4.62.3)\n",
            "Requirement already satisfied: packaging>=17.0 in /usr/local/lib/python3.7/dist-packages (from pytorch-lightning) (21.0)\n",
            "Requirement already satisfied: torch>=1.6 in /usr/local/lib/python3.7/dist-packages (from pytorch-lightning) (1.9.0+cu111)\n",
            "Collecting fsspec[http]!=2021.06.0,>=2021.05.0\n",
            "  Downloading fsspec-2021.10.0-py3-none-any.whl (125 kB)\n",
            "\u001b[K     |████████████████████████████████| 125 kB 68.5 MB/s \n",
            "\u001b[?25hCollecting pyDeprecate==0.3.1\n",
            "  Downloading pyDeprecate-0.3.1-py3-none-any.whl (10 kB)\n",
            "Collecting PyYAML>=5.1\n",
            "  Downloading PyYAML-5.4.1-cp37-cp37m-manylinux1_x86_64.whl (636 kB)\n",
            "\u001b[K     |████████████████████████████████| 636 kB 67.9 MB/s \n",
            "\u001b[?25hRequirement already satisfied: typing-extensions in /usr/local/lib/python3.7/dist-packages (from pytorch-lightning) (3.7.4.3)\n",
            "Requirement already satisfied: tensorboard>=2.2.0 in /usr/local/lib/python3.7/dist-packages (from pytorch-lightning) (2.6.0)\n",
            "Collecting torchmetrics>=0.4.0\n",
            "  Downloading torchmetrics-0.5.1-py3-none-any.whl (282 kB)\n",
            "\u001b[K     |████████████████████████████████| 282 kB 88.4 MB/s \n",
            "\u001b[?25hRequirement already satisfied: numpy>=1.17.2 in /usr/local/lib/python3.7/dist-packages (from pytorch-lightning) (1.19.5)\n",
            "Collecting aiohttp\n",
            "  Downloading aiohttp-3.7.4.post0-cp37-cp37m-manylinux2014_x86_64.whl (1.3 MB)\n",
            "\u001b[K     |████████████████████████████████| 1.3 MB 77.5 MB/s \n",
            "\u001b[?25hRequirement already satisfied: requests in /usr/local/lib/python3.7/dist-packages (from fsspec[http]!=2021.06.0,>=2021.05.0->pytorch-lightning) (2.23.0)\n",
            "Requirement already satisfied: pyparsing>=2.0.2 in /usr/local/lib/python3.7/dist-packages (from packaging>=17.0->pytorch-lightning) (2.4.7)\n",
            "Requirement already satisfied: google-auth<2,>=1.6.3 in /usr/local/lib/python3.7/dist-packages (from tensorboard>=2.2.0->pytorch-lightning) (1.35.0)\n",
            "Requirement already satisfied: grpcio>=1.24.3 in /usr/local/lib/python3.7/dist-packages (from tensorboard>=2.2.0->pytorch-lightning) (1.41.0)\n",
            "Requirement already satisfied: absl-py>=0.4 in /usr/local/lib/python3.7/dist-packages (from tensorboard>=2.2.0->pytorch-lightning) (0.12.0)\n",
            "Requirement already satisfied: tensorboard-data-server<0.7.0,>=0.6.0 in /usr/local/lib/python3.7/dist-packages (from tensorboard>=2.2.0->pytorch-lightning) (0.6.1)\n",
            "Requirement already satisfied: google-auth-oauthlib<0.5,>=0.4.1 in /usr/local/lib/python3.7/dist-packages (from tensorboard>=2.2.0->pytorch-lightning) (0.4.6)\n",
            "Requirement already satisfied: setuptools>=41.0.0 in /usr/local/lib/python3.7/dist-packages (from tensorboard>=2.2.0->pytorch-lightning) (57.4.0)\n",
            "Requirement already satisfied: markdown>=2.6.8 in /usr/local/lib/python3.7/dist-packages (from tensorboard>=2.2.0->pytorch-lightning) (3.3.4)\n",
            "Requirement already satisfied: protobuf>=3.6.0 in /usr/local/lib/python3.7/dist-packages (from tensorboard>=2.2.0->pytorch-lightning) (3.17.3)\n",
            "Requirement already satisfied: tensorboard-plugin-wit>=1.6.0 in /usr/local/lib/python3.7/dist-packages (from tensorboard>=2.2.0->pytorch-lightning) (1.8.0)\n",
            "Requirement already satisfied: werkzeug>=0.11.15 in /usr/local/lib/python3.7/dist-packages (from tensorboard>=2.2.0->pytorch-lightning) (1.0.1)\n",
            "Requirement already satisfied: wheel>=0.26 in /usr/local/lib/python3.7/dist-packages (from tensorboard>=2.2.0->pytorch-lightning) (0.37.0)\n",
            "Requirement already satisfied: six in /usr/local/lib/python3.7/dist-packages (from absl-py>=0.4->tensorboard>=2.2.0->pytorch-lightning) (1.15.0)\n",
            "Requirement already satisfied: cachetools<5.0,>=2.0.0 in /usr/local/lib/python3.7/dist-packages (from google-auth<2,>=1.6.3->tensorboard>=2.2.0->pytorch-lightning) (4.2.4)\n",
            "Requirement already satisfied: pyasn1-modules>=0.2.1 in /usr/local/lib/python3.7/dist-packages (from google-auth<2,>=1.6.3->tensorboard>=2.2.0->pytorch-lightning) (0.2.8)\n",
            "Requirement already satisfied: rsa<5,>=3.1.4 in /usr/local/lib/python3.7/dist-packages (from google-auth<2,>=1.6.3->tensorboard>=2.2.0->pytorch-lightning) (4.7.2)\n",
            "Requirement already satisfied: requests-oauthlib>=0.7.0 in /usr/local/lib/python3.7/dist-packages (from google-auth-oauthlib<0.5,>=0.4.1->tensorboard>=2.2.0->pytorch-lightning) (1.3.0)\n",
            "Requirement already satisfied: importlib-metadata in /usr/local/lib/python3.7/dist-packages (from markdown>=2.6.8->tensorboard>=2.2.0->pytorch-lightning) (4.8.1)\n",
            "Requirement already satisfied: pyasn1<0.5.0,>=0.4.6 in /usr/local/lib/python3.7/dist-packages (from pyasn1-modules>=0.2.1->google-auth<2,>=1.6.3->tensorboard>=2.2.0->pytorch-lightning) (0.4.8)\n",
            "Requirement already satisfied: idna<3,>=2.5 in /usr/local/lib/python3.7/dist-packages (from requests->fsspec[http]!=2021.06.0,>=2021.05.0->pytorch-lightning) (2.10)\n",
            "Requirement already satisfied: urllib3!=1.25.0,!=1.25.1,<1.26,>=1.21.1 in /usr/local/lib/python3.7/dist-packages (from requests->fsspec[http]!=2021.06.0,>=2021.05.0->pytorch-lightning) (1.24.3)\n",
            "Requirement already satisfied: chardet<4,>=3.0.2 in /usr/local/lib/python3.7/dist-packages (from requests->fsspec[http]!=2021.06.0,>=2021.05.0->pytorch-lightning) (3.0.4)\n",
            "Requirement already satisfied: certifi>=2017.4.17 in /usr/local/lib/python3.7/dist-packages (from requests->fsspec[http]!=2021.06.0,>=2021.05.0->pytorch-lightning) (2021.5.30)\n",
            "Requirement already satisfied: oauthlib>=3.0.0 in /usr/local/lib/python3.7/dist-packages (from requests-oauthlib>=0.7.0->google-auth-oauthlib<0.5,>=0.4.1->tensorboard>=2.2.0->pytorch-lightning) (3.1.1)\n",
            "Collecting multidict<7.0,>=4.5\n",
            "  Downloading multidict-5.2.0-cp37-cp37m-manylinux_2_5_x86_64.manylinux1_x86_64.manylinux_2_12_x86_64.manylinux2010_x86_64.whl (160 kB)\n",
            "\u001b[K     |████████████████████████████████| 160 kB 90.6 MB/s \n",
            "\u001b[?25hCollecting async-timeout<4.0,>=3.0\n",
            "  Downloading async_timeout-3.0.1-py3-none-any.whl (8.2 kB)\n",
            "Requirement already satisfied: attrs>=17.3.0 in /usr/local/lib/python3.7/dist-packages (from aiohttp->fsspec[http]!=2021.06.0,>=2021.05.0->pytorch-lightning) (21.2.0)\n",
            "Collecting yarl<2.0,>=1.0\n",
            "  Downloading yarl-1.7.0-cp37-cp37m-manylinux_2_5_x86_64.manylinux1_x86_64.manylinux_2_12_x86_64.manylinux2010_x86_64.whl (271 kB)\n",
            "\u001b[K     |████████████████████████████████| 271 kB 74.6 MB/s \n",
            "\u001b[?25hRequirement already satisfied: zipp>=0.5 in /usr/local/lib/python3.7/dist-packages (from importlib-metadata->markdown>=2.6.8->tensorboard>=2.2.0->pytorch-lightning) (3.6.0)\n",
            "Building wheels for collected packages: future\n",
            "  Building wheel for future (setup.py) ... \u001b[?25l\u001b[?25hdone\n",
            "  Created wheel for future: filename=future-0.18.2-py3-none-any.whl size=491070 sha256=13263b4c5205618841be732fb61fb373ebf3c447c9cac734355378e19c8c3ef8\n",
            "  Stored in directory: /root/.cache/pip/wheels/56/b0/fe/4410d17b32f1f0c3cf54cdfb2bc04d7b4b8f4ae377e2229ba0\n",
            "Successfully built future\n",
            "Installing collected packages: multidict, yarl, async-timeout, fsspec, aiohttp, torchmetrics, PyYAML, pyDeprecate, future, pytorch-lightning\n",
            "  Attempting uninstall: PyYAML\n",
            "    Found existing installation: PyYAML 3.13\n",
            "    Uninstalling PyYAML-3.13:\n",
            "      Successfully uninstalled PyYAML-3.13\n",
            "  Attempting uninstall: future\n",
            "    Found existing installation: future 0.16.0\n",
            "    Uninstalling future-0.16.0:\n",
            "      Successfully uninstalled future-0.16.0\n",
            "Successfully installed PyYAML-5.4.1 aiohttp-3.7.4.post0 async-timeout-3.0.1 fsspec-2021.10.0 future-0.18.2 multidict-5.2.0 pyDeprecate-0.3.1 pytorch-lightning-1.4.9 torchmetrics-0.5.1 yarl-1.7.0\n"
          ]
        }
      ]
    },
    {
      "cell_type": "markdown",
      "metadata": {
        "id": "dL3397WgFvmv"
      },
      "source": [
        "# Proposed model"
      ]
    },
    {
      "cell_type": "code",
      "metadata": {
        "id": "YzRL4z9xE2Ls"
      },
      "source": [
        "class Net_spectral(pl.LightningModule):\n",
        "    def __init__(self):\n",
        "        super().__init__()\n",
        "        self.conv1 = nn.Conv2d(2, 64, 3)\n",
        "        self.conv2 = nn.Conv2d(64, 128, 3)\n",
        "        self.conv3 = nn.Conv2d(128, 256, 3)\n",
        "        # self.conv4 = nn.Conv2d(256, 512, 3)\n",
        "\n",
        "        self.maxpooling2d = nn.MaxPool2d(2, 2)\n",
        "        self.globalmaxpooling2d = nn.AdaptiveAvgPool2d(1)\n",
        "        self.dropout = nn.Dropout(p=0.5)\n",
        "\n",
        "        self.fc512_n1 = nn.Linear(256, 256)\n",
        "        self.fc512_n2 = nn.Linear(256, 256)\n",
        "\n",
        "    def forward(self, x):\n",
        "        x = self.maxpooling2d(F.relu(self.conv1(x)))\n",
        "        x = self.maxpooling2d(F.relu(self.conv2(x)))\n",
        "        x = self.maxpooling2d(F.relu(self.conv3(x)))\n",
        "        # x = self.maxpooling2d(F.relu(self.conv4(x)))\n",
        "        x= self.globalmaxpooling2d(x)\n",
        "        x = F.relu(self.fc512_n1(torch.squeeze(x)))\n",
        "\n",
        "        x = F.relu(self.fc512_n2(x))\n",
        "        x = self.dropout(x)\n",
        "        return x\n",
        "\n",
        "class MLP_output(pl.LightningModule):\n",
        "    def __init__(self):\n",
        "        super().__init__()\n",
        "\n",
        "        self.dropout_n1 = nn.Dropout(p=0.5)\n",
        "        self.dropout_n2 = nn.Dropout(p=0.5)\n",
        "        self.dropout_n3 = nn.Dropout(p=0.5)\n",
        "\n",
        "\n",
        "        self.fc256 = nn.Linear(256, 256)\n",
        "\n",
        "        # self.fc1024_512 = nn.Linear(1024, 512)\n",
        "        self.fc512_256 = nn.Linear(512, 256)\n",
        "        self.fc256_128 = nn.Linear(256, 128)\n",
        "        self.fc128_2 = nn.Linear(128,2)\n",
        "\n",
        "    def forward(self, x):\n",
        "\n",
        "\n",
        "        # x = F.relu(self.fc1024_512(x))\n",
        "        # x = self.dropout_n1(x)\n",
        "        # x = F.relu(self.fc512_256(x))\n",
        "        # x = self.dropout_n2(x)\n",
        "        x = F.relu(self.fc256_128(x))\n",
        "        x = self.dropout_n3(x)\n",
        "\n",
        "        output = F.softplus(self.fc128_2(x))\n",
        "\n",
        "        return output\n",
        "\n",
        "\n",
        "\n",
        "class Net_cwave(pl.LightningModule):\n",
        "    def __init__(self):\n",
        "        super().__init__()\n",
        "\n",
        "        self.dropout = nn.Dropout(p=0.5)\n",
        "        self.softmax = nn.Softmax(dim = 1)\n",
        "\n",
        "\n",
        "        self.fc10_64 = nn.Linear(10, 64)\n",
        "        self.fc64_128 = nn.Linear(64, 128)\n",
        "        self.fc128_256 = nn.Linear(128, 256)\n",
        "        self.fc256_512 = nn.Linear(256, 512)\n",
        "        self.fc512_1024 = nn.Linear(512, 1024)\n",
        "        self.fc1024_2048 = nn.Linear(1024,2048)\n",
        "\n",
        "    def forward(self, x):\n",
        "        x = F.relu(self.fc10_64(x[:,22:]))\n",
        "        x = F.relu(self.fc64_128(x))\n",
        "        x = F.relu(self.fc128_256(x))\n",
        "        x = F.relu(self.fc256_512(x))\n",
        "        x = F.relu(self.fc512_1024(x))\n",
        "        x = F.relu(self.fc1024_2048(x))\n",
        "        x = x.view(-1,8,256)\n",
        "\n",
        "        x = self.softmax(x)\n",
        "        x = self.dropout(x)\n",
        "        return x\n",
        "\n",
        "# combination of two NN\n",
        "class Net_comb(pl.LightningModule):\n",
        "    def __init__(self):\n",
        "        super().__init__()\n",
        "\n",
        "        self.maxpooling2d = nn.MaxPool2d(2, 2)\n",
        "        self.globalmaxpooling2d = nn.AdaptiveMaxPool2d(1)\n",
        "\n",
        "        self.dropout_n1 = nn.Dropout(p=0.5)\n",
        "        self.dropout_n2 = nn.Dropout(p=0.5)\n",
        "\n",
        "        self.fc256 = nn.Linear(256, 256)\n",
        "        self.fc256_128 = nn.Linear(256, 128)\n",
        "        self.fc128_1 = nn.Linear(128, 1)\n",
        "\n",
        "        self.net_cwave = Net_cwave()\n",
        "\n",
        "        self.net_spectral_n1 = Net_spectral()\n",
        "        self.net_spectral_n2 = Net_spectral()\n",
        "        self.net_spectral_n3 = Net_spectral()\n",
        "        self.net_spectral_n4 = Net_spectral()\n",
        "        self.net_spectral_n5 = Net_spectral()\n",
        "        self.net_spectral_n6 = Net_spectral()\n",
        "        self.net_spectral_n7 = Net_spectral()\n",
        "        self.net_spectral_n8 = Net_spectral()\n",
        "\n",
        "        self.mlp_out = MLP_output()\n",
        "        # self.mlp_out_2 = MLP_output()\n",
        "\n",
        "    def forward(self, x1,x2):\n",
        "\n",
        "        cnn_output_n1 = self.net_spectral_n1(x1)\n",
        "        cnn_output_n2 = self.net_spectral_n2(x1)\n",
        "        cnn_output_n3 = self.net_spectral_n3(x1)\n",
        "        cnn_output_n4 = self.net_spectral_n4(x1)\n",
        "        cnn_output_n5 = self.net_spectral_n5(x1)\n",
        "        cnn_output_n6 = self.net_spectral_n6(x1)\n",
        "        cnn_output_n7 = self.net_spectral_n7(x1)\n",
        "        cnn_output_n8 = self.net_spectral_n8(x1)\n",
        "\n",
        "        cnn_output_matrix = torch.cat([cnn_output_n1,cnn_output_n2,cnn_output_n3,cnn_output_n4,cnn_output_n5,cnn_output_n6,cnn_output_n7,cnn_output_n8],dim=1)\n",
        "        cnn_output_matrix = cnn_output_matrix.view(-1,8,256)\n",
        "        # print(self.net_cwave(x2).size())\n",
        "        # print(cnn_output_matrix.size())\n",
        "        x = cnn_output_matrix*self.net_cwave(x2)\n",
        "\n",
        "        x = torch.sum(x,1)\n",
        "\n",
        "        output = self.mlp_out(x)\n",
        "\n",
        "        return output\n",
        "\n",
        "\n",
        "    def training_step(self, batch, batch_idx):\n",
        "        x, y_true = batch\n",
        "        x1,x2 = x\n",
        "\n",
        "        x1 = torch.cat([x1, torch.cat([torch.unsqueeze(x1[:,0,:,:],1),torch.unsqueeze(torch.zeros_like(x1[:,1,:,:]),1)],1)],0)\n",
        "        x2 = torch.cat([x2,x2],0)\n",
        "\n",
        "        y_pre = self.forward(x1,x2)\n",
        "\n",
        "\n",
        "        loss_f = nn.GaussianNLLLoss()\n",
        "        loss = loss_f(y_pre[:,0], torch.cat([torch.squeeze(y_true).float(),torch.squeeze(y_true).float()],0) ,y_pre[:,1])\n",
        "        self.log('train_loss', loss)\n",
        "\n",
        "        return loss\n",
        "\n",
        "\n",
        "\n",
        "    def validation_step(self, batch, batch_idx):\n",
        "\n",
        "        x, y_true = batch\n",
        "        x1,x2 = x\n",
        "        \n",
        "        y_pre = self.forward(x1,x2)\n",
        "\n",
        "        loss = F.mse_loss(y_pre[:,0], torch.squeeze(y_true))\n",
        "        self.log('val_loss', loss)\n",
        "    \n",
        "        return loss\n",
        "\n",
        "    def test_step(self, batch, batch_idx):\n",
        "\n",
        "        x, y_true = batch\n",
        "        x1,x2 = x\n",
        "        \n",
        "        y_pre = self.forward(x1,x2)\n",
        "        loss = F.mse_loss(y_pre[:,0], torch.squeeze(y_true))\n",
        "        self.log('test_loss', loss)\n",
        "        \n",
        "        return loss\n",
        "\n",
        "    def configure_optimizers(self):\n",
        "\n",
        "        optimizer = torch.optim.Adam(self.parameters(), lr=0.0003)\n",
        "        scheduler = ReduceLROnPlateau(optimizer, factor=0.8, patience= 1)\n",
        "\n",
        "        return { 'optimizer': optimizer, 'lr_scheduler': { 'scheduler': scheduler, 'monitor': 'val_loss', } }"
      ],
      "execution_count": 5,
      "outputs": []
    },
    {
      "cell_type": "markdown",
      "metadata": {
        "id": "1zMpy5-BF0Cn"
      },
      "source": [
        "# Average six prediction of model proposed which are trained with fixed epochs (Data augmentation and attention network)"
      ]
    },
    {
      "cell_type": "code",
      "metadata": {
        "id": "dv6T6-V1E2jg"
      },
      "source": [
        "class Net_comb_6(pl.LightningModule):\n",
        "    def __init__(self):\n",
        "        super().__init__()\n",
        "\n",
        "        self.m1 = Net_comb.load_from_checkpoint('/content/drive/MyDrive/sar_img/model/model_nllloss_k=8_256_batch_256_aug_fix_30epoch_p5_lr08_v1/lightning_logs/version_6/checkpoints/epoch=31-step=71199.ckpt')\n",
        "        self.m2 = Net_comb.load_from_checkpoint('/content/drive/MyDrive/sar_img/model/model_nllloss_k=8_256_batch_256_aug_fix_30epoch_p5_lr08_v1/lightning_logs/version_8/checkpoints/epoch=31-step=71199.ckpt')\n",
        "        self.m3 = Net_comb.load_from_checkpoint('/content/drive/MyDrive/sar_img/model/model_nllloss_k=8_256_batch_256_aug_fix_30epoch_p5_lr08_v2/lightning_logs/version_0/checkpoints/epoch=31-step=71199.ckpt')\n",
        "        self.m4 = Net_comb.load_from_checkpoint('/content/drive/MyDrive/sar_img/model/model_nllloss_k=8_256_batch_256_aug_fix_30epoch_p5_lr08_v2/lightning_logs/version_2/checkpoints/epoch=31-step=71199.ckpt')\n",
        "        self.m5 = Net_comb.load_from_checkpoint('/content/drive/MyDrive/sar_img/model/model_nllloss_k=8_256_batch_256_aug_fix_30epoch_p5_lr08_v2/lightning_logs/version_3/checkpoints/epoch=31-step=71199.ckpt')\n",
        "        self.m6 = Net_comb.load_from_checkpoint('/content/drive/MyDrive/sar_img/model/model_nllloss_k=8_256_batch_256_aug_fix_30epoch_p5_lr08_v2/lightning_logs/version_7/checkpoints/epoch=31-step=71199.ckpt')\n",
        "\n",
        "    def forward(self, x1,x2):\n",
        "\n",
        "        out = torch.cat([torch.unsqueeze(self.m1(x1,x2),2),torch.unsqueeze(self.m2(x1,x2),2),torch.unsqueeze(self.m3(x1,x2),2),torch.unsqueeze(self.m4(x1,x2),2),torch.unsqueeze(self.m5(x1,x2),2),torch.unsqueeze(self.m6(x1,x2),2)],2)\n",
        "        out = torch.mean(out,2)\n",
        "\n",
        "\n",
        "        return out\n",
        "\n",
        "    def training_step(self, batch, batch_idx):\n",
        "        x, y_true = batch\n",
        "        x1,x2 = x\n",
        "\n",
        "        x1 = torch.cat([x1, torch.cat([torch.unsqueeze(x1[:,0,:,:],1),torch.unsqueeze(torch.zeros_like(x1[:,1,:,:]),1)],1)],0)\n",
        "        x2 = torch.cat([x2,x2],0)\n",
        "\n",
        "        y_pre = self.forward(x1,x2)\n",
        "\n",
        "\n",
        "        loss_f = nn.GaussianNLLLoss()\n",
        "        loss = loss_f(y_pre[:,0], torch.cat([torch.squeeze(y_true).float(),torch.squeeze(y_true).float()],0) ,y_pre[:,1])\n",
        "        self.log('train_loss', loss)\n",
        "\n",
        "        return loss\n",
        "\n",
        "\n",
        "\n",
        "    def validation_step(self, batch, batch_idx):\n",
        "\n",
        "        x, y_true = batch\n",
        "        x1,x2 = x\n",
        "        \n",
        "        y_pre = self.forward(x1,x2)\n",
        "\n",
        "        loss = F.mse_loss(y_pre[:,0], torch.squeeze(y_true))\n",
        "        self.log('val_loss', loss)\n",
        "    \n",
        "        return loss\n",
        "\n",
        "    def test_step(self, batch, batch_idx):\n",
        "\n",
        "        x, y_true = batch\n",
        "        x1,x2 = x\n",
        "        \n",
        "        y_pre = self.forward(x1,x2)\n",
        "        loss = torch.mean(torch.square(y_pre[:,0]-torch.squeeze(y_true)))\n",
        "        self.log('test_loss', loss)\n",
        "        \n",
        "        return loss\n",
        "\n",
        "    def predict_step(self, batch, batch_idx):\n",
        "        x, y_true = batch\n",
        "        x1,x2 = x\n",
        "\n",
        "        y_pre = self.forward(x1,x2)\n",
        "        return y_pre\n",
        "\n",
        "    def configure_optimizers(self):\n",
        "        \n",
        "        optimizer = torch.optim.Adam(self.parameters(), lr=0.0003)\n",
        "        scheduler = ReduceLROnPlateau(optimizer, factor=0.8, patience= 4)\n",
        "\n",
        "        return { 'optimizer': optimizer, 'lr_scheduler': { 'scheduler': scheduler, 'monitor': 'val_loss', } }\n",
        "    "
      ],
      "execution_count": 10,
      "outputs": []
    },
    {
      "cell_type": "markdown",
      "metadata": {
        "id": "_Uvx8aCQF5Vs"
      },
      "source": [
        "# Load data"
      ]
    },
    {
      "cell_type": "code",
      "metadata": {
        "id": "B5IUReWTFQ4y"
      },
      "source": [
        "class Dataset_torch(Dataset):\n",
        "\n",
        "    def __init__(self, data):\n",
        "        self.data = data\n",
        "    def __len__(self):\n",
        "        return len(self.data['y'])    \n",
        "\n",
        "    def __getitem__(self, idx):\n",
        "        \n",
        "        inputs = [self.data['x1'][idx],self.data['x2'][idx].float()]\n",
        "        return inputs, self.data['y'][idx]\n",
        "        "
      ],
      "execution_count": 7,
      "outputs": []
    },
    {
      "cell_type": "code",
      "metadata": {
        "id": "ehSj4VKWFRoc"
      },
      "source": [
        "data_18 = torch.load('/content/drive/MyDrive/sar_img/dataset/tensors_2018.pt')\n",
        "dataset_2018 = Dataset_torch(data_18)\n",
        "data_loader_2018 = torch.utils.data.DataLoader(dataset=dataset_2018, batch_size=1024,num_workers=2)"
      ],
      "execution_count": 8,
      "outputs": []
    },
    {
      "cell_type": "markdown",
      "metadata": {
        "id": "cKRYlUQkF7hG"
      },
      "source": [
        "# Test"
      ]
    },
    {
      "cell_type": "code",
      "metadata": {
        "colab": {
          "base_uri": "https://localhost:8080/",
          "height": 294,
          "referenced_widgets": [
            "c58dd9b0279a4079984be2d3a2e954ef",
            "fe8c054260da47a3a48755df0deea4d4",
            "e311720d53de483398f4baf214e60ef2",
            "166b448037684ebca179a24d25116b3b",
            "1f1ce65593a641fb8192aa5f86e99ec6",
            "d8463db4ae9a47a187fedba86fd2aa16",
            "a893195c40bd43fbb9bd13e941fc11c3",
            "bcf25a342c344d6386efc755bd1c9614",
            "30e3eb9b03634cb9b8ebd6fd6c8761c4",
            "2e7d3348a64148d687957b3d48baecb5",
            "6ce043b7c7d549599e67ae4b78fb297d"
          ]
        },
        "id": "kLgY7T1FFEkZ",
        "outputId": "a28d6f8a-06f0-4435-b473-4b96be661344"
      },
      "source": [
        "model_6 = Net_comb_6()\n",
        "trainer = pl.Trainer(gpus=1)\n",
        "trainer.test(model=model_6,test_dataloaders = data_loader_2018)"
      ],
      "execution_count": 11,
      "outputs": [
        {
          "output_type": "stream",
          "name": "stderr",
          "text": [
            "GPU available: True, used: True\n",
            "TPU available: False, using: 0 TPU cores\n",
            "IPU available: False, using: 0 IPUs\n",
            "/usr/local/lib/python3.7/dist-packages/pytorch_lightning/trainer/trainer.py:679: LightningDeprecationWarning: `trainer.test(test_dataloaders)` is deprecated in v1.4 and will be removed in v1.6. Use `trainer.test(dataloaders)` instead.\n",
            "  \"`trainer.test(test_dataloaders)` is deprecated in v1.4 and will be removed in v1.6.\"\n",
            "LOCAL_RANK: 0 - CUDA_VISIBLE_DEVICES: [0]\n",
            "/usr/local/lib/python3.7/dist-packages/pytorch_lightning/trainer/data_loading.py:106: UserWarning: The dataloader, test dataloader 0, does not have many workers which may be a bottleneck. Consider increasing the value of the `num_workers` argument` (try 4 which is the number of cpus on this machine) in the `DataLoader` init to improve performance.\n",
            "  f\"The dataloader, {name}, does not have many workers which may be a bottleneck.\"\n"
          ]
        },
        {
          "output_type": "display_data",
          "data": {
            "application/vnd.jupyter.widget-view+json": {
              "model_id": "c58dd9b0279a4079984be2d3a2e954ef",
              "version_minor": 0,
              "version_major": 2
            },
            "text/plain": [
              "Testing: 0it [00:00, ?it/s]"
            ]
          },
          "metadata": {}
        },
        {
          "output_type": "stream",
          "name": "stdout",
          "text": [
            "--------------------------------------------------------------------------------\n",
            "DATALOADER:0 TEST RESULTS\n",
            "{'test_loss': 0.085863396525383}\n",
            "--------------------------------------------------------------------------------\n"
          ]
        },
        {
          "output_type": "execute_result",
          "data": {
            "text/plain": [
              "[{'test_loss': 0.085863396525383}]"
            ]
          },
          "metadata": {},
          "execution_count": 11
        }
      ]
    },
    {
      "cell_type": "markdown",
      "metadata": {
        "id": "3rzY8P1OF9Gb"
      },
      "source": [
        "# Prediction"
      ]
    },
    {
      "cell_type": "code",
      "metadata": {
        "colab": {
          "base_uri": "https://localhost:8080/",
          "height": 123,
          "referenced_widgets": [
            "79a7181b9ed44f45b6a962556d3500c5",
            "0b922d8ae4b74e349cbaa6b6a21f31e5",
            "83d6831c23b7461e9a33bbeb7fe0f543",
            "3512730f0d7a46b4a47fb14a1586d8f0",
            "e6feac78e6bf414ab8ead9548e41b9c6",
            "e017332571b74a77b8deb119278bf054",
            "665be94d171147a68d45d8eb751133fd",
            "01d00ae8593542c6b4fed5ae55439a89",
            "6037e732a3b04db7989c53413a15e7aa",
            "e9e65ba63f694b51b3279b3c1da58aef",
            "a2936551f816413d8ee8c85b8d2ad590"
          ]
        },
        "id": "1CkoCxkdXAP1",
        "outputId": "f44e41cb-89ec-4ca8-a2dd-fc39971e7aeb"
      },
      "source": [
        "predict_2018_test_k8 = trainer.predict(model=model_6,dataloaders = data_loader_2018)"
      ],
      "execution_count": null,
      "outputs": [
        {
          "output_type": "stream",
          "name": "stderr",
          "text": [
            "INFO:pytorch_lightning.accelerators.gpu:LOCAL_RANK: 0 - CUDA_VISIBLE_DEVICES: [0]\n",
            "/usr/local/lib/python3.7/dist-packages/pytorch_lightning/trainer/data_loading.py:106: UserWarning: The dataloader, predict dataloader 0, does not have many workers which may be a bottleneck. Consider increasing the value of the `num_workers` argument` (try 4 which is the number of cpus on this machine) in the `DataLoader` init to improve performance.\n",
            "  f\"The dataloader, {name}, does not have many workers which may be a bottleneck.\"\n"
          ]
        },
        {
          "output_type": "display_data",
          "data": {
            "application/vnd.jupyter.widget-view+json": {
              "model_id": "79a7181b9ed44f45b6a962556d3500c5",
              "version_minor": 0,
              "version_major": 2
            },
            "text/plain": [
              "Predicting: 0it [00:00, ?it/s]"
            ]
          },
          "metadata": {}
        }
      ]
    },
    {
      "cell_type": "code",
      "metadata": {
        "colab": {
          "base_uri": "https://localhost:8080/"
        },
        "id": "I3cPZ2weXekP",
        "outputId": "c2fa4302-652b-4ef5-d348-d44679d44ea0"
      },
      "source": [
        "predict_2018_test_k8 = torch.cat(predict_2018_test_k8)\n",
        "predict_2018_test_k8.shape"
      ],
      "execution_count": null,
      "outputs": [
        {
          "output_type": "execute_result",
          "data": {
            "text/plain": [
              "torch.Size([185151, 2])"
            ]
          },
          "metadata": {},
          "execution_count": 67
        }
      ]
    },
    {
      "cell_type": "markdown",
      "metadata": {
        "id": "xnabHGtiGGvq"
      },
      "source": [
        "# Save and load prediction"
      ]
    },
    {
      "cell_type": "code",
      "metadata": {
        "id": "lTQals8FXhhO"
      },
      "source": [
        "torch.save(predict_2018_test_k8, '/content/drive/MyDrive/sar_img/dataset/predict_2018_test_k8_avg6_aug_fix_new.pt')"
      ],
      "execution_count": null,
      "outputs": []
    },
    {
      "cell_type": "code",
      "metadata": {
        "id": "4XVz91zFQ716"
      },
      "source": [
        "predict_2018_test_k8_aug = torch.load('/content/drive/MyDrive/sar_img/dataset/predict_2018_test_k8_avg6_aug_fix_new.pt')"
      ],
      "execution_count": 18,
      "outputs": []
    },
    {
      "cell_type": "markdown",
      "metadata": {
        "id": "TTXfQB6AGI6M"
      },
      "source": [
        "# Plot"
      ]
    },
    {
      "cell_type": "code",
      "metadata": {
        "colab": {
          "base_uri": "https://localhost:8080/",
          "height": 613
        },
        "id": "ieuj1qygYubw",
        "outputId": "12237ceb-3c00-4453-b38a-8fc3ff214d36"
      },
      "source": [
        "import matplotlib\n",
        "font = {'family' : 'normal',\n",
        "        'weight' : 'bold',\n",
        "        'size'   : 18}\n",
        "\n",
        "matplotlib.rc('font', **font)\n",
        "sys.path.append('/home1/datahome/agrouaze/git/mpc/qualitycheck/')\n",
        "import utilscalval\n",
        "from importlib import reload\n",
        "reload(utilscalval)\n",
        "y = predict_2018_test_k8_aug[:,0]\n",
        "y = y.cpu().numpy()\n",
        "x = data_18['y'][:,0].numpy()\n",
        "#y = predict_2018_original_keras[:,0].squeeze()\n",
        "print(x.shape)\n",
        "print(y.shape)\n",
        "# tit = 'keras model validation \\nQuach et al. 2020 methodology\\n model trained by Zhengyang LAN \\n training dataset year : 2018'\n",
        "# tit = 'keras model validation \\nQuach et al. 2020 methodology\\n model trained by Hawaiian team \\n training dataset year : 2018'\n",
        "tit = 'Model validation, model trained by Zhengyang\\n training dataset year : 2015-2017 \\n test dataset year : 2018'\n",
        "xlabel='Altimeter Hs (Young & Ribal) [m]'\n",
        "ylabel='predicted Hs [m]'\n",
        "utilscalval.plot_scat_dens(x,y,xlabel=xlabel,ylabel=ylabel,title=tit,gaussian_fit=False,mean_curve=False,\n",
        "                           ortho=True,unit='m',xlimits=(0,13),ylimits=(0,13),print_stat=True,linear_fit=True,\n",
        "                           fontsize=20,logdensity=False,cmap=parula_map,add_points=False)\n",
        "plt.show()"
      ],
      "execution_count": 19,
      "outputs": [
        {
          "output_type": "stream",
          "name": "stdout",
          "text": [
            "(185151,)\n",
            "(185151,)\n"
          ]
        },
        {
          "output_type": "display_data",
          "data": {
            "image/png": "[encoded data removed]",
            "text/plain": [
              "<Figure size 720x576 with 2 Axes>"
            ]
          },
          "metadata": {
            "needs_background": "light"
          }
        }
      ]
    }
  ]
}